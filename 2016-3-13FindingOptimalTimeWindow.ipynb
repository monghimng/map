{
 "cells": [
  {
   "cell_type": "markdown",
   "metadata": {},
   "source": [
    "# Finding the Optimal Time Window for Detecting RR Interval"
   ]
  },
  {
   "cell_type": "markdown",
   "metadata": {},
   "source": [
    "Here we refer to the time window as the frame. Each frame is 0.033 sec front and back (so 0.67 total)"
   ]
  },
  {
   "cell_type": "code",
   "execution_count": 1,
   "metadata": {
    "collapsed": false
   },
   "outputs": [],
   "source": [
    "import numpy\n",
    "import matplotlib.pyplot as plt\n",
    "fps = 30.323427803"
   ]
  },
  {
   "cell_type": "code",
   "execution_count": 3,
   "metadata": {
    "collapsed": true
   },
   "outputs": [],
   "source": [
    "def readFromFile(fileName):\n",
    "    l =numpy.loadtxt(fileName)\n",
    "    return l[0], l[1], l[2]"
   ]
  },
  {
   "cell_type": "code",
   "execution_count": 4,
   "metadata": {
    "collapsed": true
   },
   "outputs": [],
   "source": [
    "def detectPeak(colorL, frameThreshold):\n",
    "    peakL = list()\n",
    "    colorlistLen = len(colorL)\n",
    "    for i in range(1, colorlistLen-1):\n",
    "        biggerThanPrevious = colorL[i] > colorL[i-1]\n",
    "        biggerThanAfter = colorL[i] > colorL[i+1]\n",
    "        #if it is a local maximum, then check if it is a RR peak by comparing its maxima interval to frameThreshold\n",
    "        if biggerThanPrevious and biggerThanAfter:\n",
    "            for k in range(2, frameThreshold+1):\n",
    "                if i-k >= 0:\n",
    "                    if not colorL[i] > colorL[i-k]:\n",
    "                        #this is not a rr peak\n",
    "                        break\n",
    "                if i+k < colorlistLen:\n",
    "                    if not colorL[i] > colorL[i+k]:\n",
    "                        #this is not a rr peak\n",
    "                        break\n",
    "            else:\n",
    "                #this IS a rr peak, store the array index\n",
    "                peakL.append(i)\n",
    "    return peakL"
   ]
  },
  {
   "cell_type": "code",
   "execution_count": 5,
   "metadata": {
    "collapsed": true
   },
   "outputs": [],
   "source": [
    "def constructRRIntervalList(peakL):\n",
    "    return [ (peakL[i]-peakL[i-1])/fps for i in range(1, len(peakL))]"
   ]
  },
  {
   "cell_type": "markdown",
   "metadata": {},
   "source": [
    "This function defines the criteria for being a true RR interval."
   ]
  },
  {
   "cell_type": "code",
   "execution_count": 6,
   "metadata": {
    "collapsed": true
   },
   "outputs": [],
   "source": [
    "def isTrueRRInterval(rrInterval):\n",
    "    if 0.54 <= rrInterval and rrInterval <= 1.0:\n",
    "        return True\n",
    "    else:\n",
    "        return False"
   ]
  },
  {
   "cell_type": "markdown",
   "metadata": {},
   "source": [
    "This function detect the amount of errors in a list of RR interval, as judged by function isTrueRRInterval"
   ]
  },
  {
   "cell_type": "code",
   "execution_count": 7,
   "metadata": {
    "collapsed": false
   },
   "outputs": [],
   "source": [
    "def getPercentError(rrL):\n",
    "    errorNum = 0\n",
    "    for rrInterval in rrL:\n",
    "        if (not isTrueRRInterval(rrInterval)):\n",
    "            errorNum += 1\n",
    "    return 100.0*errorNum/len(rrL) if len(rrL) else 100"
   ]
  },
  {
   "cell_type": "markdown",
   "metadata": {},
   "source": [
    "This function analyze the rgb txt file of a PPG video and return important information."
   ]
  },
  {
   "cell_type": "code",
   "execution_count": 8,
   "metadata": {
    "collapsed": false
   },
   "outputs": [],
   "source": [
    "def analyzeVideoAndFindPercentErrorList(fileName):\n",
    "    rErrorL = []\n",
    "    gErrorL = []\n",
    "    bErrorL = []\n",
    "    rL, gL, bL = readFromFile(fileName)\n",
    "    for frameThreshold in range(1, 26):\n",
    "        rRRL = constructRRIntervalList(detectPeak(rL, frameThreshold))\n",
    "        gRRL = constructRRIntervalList(detectPeak(gL, frameThreshold))\n",
    "        bRRL = constructRRIntervalList(detectPeak(bL, frameThreshold))\n",
    "        rErrorL.append(getPercentError(rRRL))\n",
    "        gErrorL.append(getPercentError(gRRL))\n",
    "        bErrorL.append(getPercentError(bRRL))\n",
    "    return rErrorL, gErrorL, bErrorL"
   ]
  },
  {
   "cell_type": "code",
   "execution_count": 19,
   "metadata": {
    "collapsed": true
   },
   "outputs": [],
   "source": [
    "videoList = [\"/home/mong/Desktop/map/map/videos/VID_20150123_172926_F.mp4.txt\",\n",
    "    \"/home/mong/Desktop/map/map/videos/VID_20150123_173259_Q.mp4.txt\",\n",
    "    \"/home/mong/Desktop/map/map/videos/VID_20150123_173329_F.mp4.txt\",\n",
    "    \"/home/mong/Desktop/map/map/videos/VID_20150123_173358_Q.mp4.txt\",\n",
    "    \"/home/mong/Desktop/map/map/videos/VID_20150123_173427_F.mp4.txt\",\n",
    "    \"/home/mong/Desktop/map/map/videos/VID_20150123_173457_Q.mp4.txt\",\n",
    "    \"/home/mong/Desktop/map/map/videos/VID_20150123_173556_Q.mp4.txt\",\n",
    "    \"/home/mong/Desktop/map/map/videos/VID_20150123_173629_F.mp4.txt\",\n",
    "    \"/home/mong/Desktop/map/map/videos/VID_20150123_173700_Q.mp4.txt\",\n",
    "    \"/home/mong/Desktop/map/map/videos/VID_20150123_173757_Q.mp4.txt\",\n",
    "    \"/home/mong/Desktop/map/map/videos/VID_20150123_173028_F.mp4.txt\",\n",
    "    \"/home/mong/Desktop/map/map/videos/VID_20150123_172857_Q.mp4.txt\"]\n",
    "videoList = [\"/home/mong/Desktop/map/map/videos/160x120.VID_20150123_172926_F.mp4.txt\",\n",
    "    \"/home/mong/Desktop/map/map/videos/160x120.VID_20150123_173259_Q.mp4.txt\",\n",
    "    \"/home/mong/Desktop/map/map/videos/160x120.VID_20150123_173329_F.mp4.txt\",\n",
    "    \"/home/mong/Desktop/map/map/videos/160x120.VID_20150123_173358_Q.mp4.txt\",\n",
    "    \"/home/mong/Desktop/map/map/videos/160x120.VID_20150123_173427_F.mp4.txt\",\n",
    "    \"/home/mong/Desktop/map/map/videos/160x120.VID_20150123_173457_Q.mp4.txt\",\n",
    "    \"/home/mong/Desktop/map/map/videos/160x120.VID_20150123_173556_Q.mp4.txt\",\n",
    "    \"/home/mong/Desktop/map/map/videos/160x120.VID_20150123_173629_F.mp4.txt\",\n",
    "    \"/home/mong/Desktop/map/map/videos/160x120.VID_20150123_173700_Q.mp4.txt\",\n",
    "    \"/home/mong/Desktop/map/map/videos/160x120.VID_20150123_173757_Q.mp4.txt\",\n",
    "    \"/home/mong/Desktop/map/map/videos/160x120.VID_20150123_173028_F.mp4.txt\",\n",
    "    \"/home/mong/Desktop/map/map/videos/160x120.VID_20150123_172857_Q.mp4.txt\"]"
   ]
  },
  {
   "cell_type": "code",
   "execution_count": 22,
   "metadata": {
    "collapsed": false
   },
   "outputs": [
    {
     "data": {
      "image/png": "[encoded data removed]",
      "text/plain": [
       "<matplotlib.figure.Figure at 0x7f727a9b66d8>"
      ]
     },
     "metadata": {},
     "output_type": "display_data"
    }
   ],
   "source": [
    "%matplotlib inline\n",
    "plt.rcParams['figure.figsize'] = (10, 6)\n",
    "rAvgErrorL = [0 for i in range(0, 25)]\n",
    "gAvgErrorL = [0 for i in range(0, 25)]\n",
    "bAvgErrorL = [0 for i in range(0, 25)]\n",
    "goodVideoL = {}\n",
    "for video in videoList:\n",
    "    rErrorL, gErrorL, bErrorL = analyzeVideoAndFindPercentErrorList(video)\n",
    "    #find the errors less than .1\n",
    "    for i in range(0, len(rErrorL)):\n",
    "        if rErrorL[i] < 0.1:\n",
    "            goodVideoL[video+\"(red frame \" + str((i+1)*2)+\")\"] = rErrorL[i]\n",
    "    for i in range(0, len(gErrorL)):\n",
    "        if gErrorL[i] < 0.1:\n",
    "            goodVideoL[video+\"(green frame \" + str((i+1)*2)+\")\"] = gErrorL[i]\n",
    "    for i in range(0, len(bErrorL)):\n",
    "        if bErrorL[i] < 0.1:\n",
    "            goodVideoL[video+\"(blue frame \" + str((i+1)*2)+\")\"] = bErrorL[i]\n",
    "    for i in range(0, 25):\n",
    "        rAvgErrorL[i] += rErrorL[i]\n",
    "        gAvgErrorL[i] += gErrorL[i]\n",
    "        bAvgErrorL[i] += bErrorL[i]\n",
    "rAvgErrorL = [totalError/len(videoList) for totalError in rAvgErrorL]\n",
    "gAvgErrorL = [totalError/len(videoList) for totalError in gAvgErrorL]\n",
    "bAvgErrorL = [totalError/len(videoList) for totalError in bAvgErrorL]\n",
    "frameThresholdL = [frameThreshold*2 for frameThreshold in range(1, 26)]\n",
    "plt.plot(frameThresholdL, rAvgErrorL, color='red')\n",
    "plt.plot(frameThresholdL, gAvgErrorL, color='green')\n",
    "plt.plot(frameThresholdL, bAvgErrorL, color='blue')\n",
    "plt.xlabel(\"Frame around the peak (each frame 0.0333s)\")\n",
    "plt.xlim(2, 50)\n",
    "plt.ylim(0, 101)\n",
    "plt.ylabel(\"Percent Error\")\n",
    "plt.show()"
   ]
  },
  {
   "cell_type": "markdown",
   "metadata": {},
   "source": [
    "These are the good videos with percent errors less than 0.1"
   ]
  },
  {
   "cell_type": "code",
   "execution_count": 23,
   "metadata": {
    "collapsed": false
   },
   "outputs": [
    {
     "name": "stdout",
     "output_type": "stream",
     "text": [
      "160x120.VID_20150123_172926_F.mp4.txt(green frame 18) with percent error of 0.0\n",
      "160x120.VID_20150123_172926_F.mp4.txt(green frame 14) with percent error of 0.0\n",
      "160x120.VID_20150123_172926_F.mp4.txt(green frame 10) with percent error of 0.0\n",
      "160x120.VID_20150123_172926_F.mp4.txt(green frame 12) with percent error of 0.0\n",
      "160x120.VID_20150123_172926_F.mp4.txt(green frame 20) with percent error of 0.0\n",
      "160x120.VID_20150123_172926_F.mp4.txt(green frame 16) with percent error of 0.0\n",
      "160x120.VID_20150123_172926_F.mp4.txt(green frame 8) with percent error of 0.0\n"
     ]
    }
   ],
   "source": [
    "for goodVideo in goodVideoL:\n",
    "    print (goodVideo.split(\"/\")[-1], \"with percent error of\", goodVideoL[goodVideo])"
   ]
  },
  {
   "cell_type": "code",
   "execution_count": 19,
   "metadata": {
    "collapsed": false
   },
   "outputs": [
    {
     "name": "stdout",
     "output_type": "stream",
     "text": [
      "The ideal frame around and time around is as follow\n",
      "for red: 14 which is 0.467 seconds\n",
      "for green: 16 which is 0.533 seconds\n",
      "for blue: 30 which is 1.000 seconds\n"
     ]
    }
   ],
   "source": [
    "def minimum(l):\n",
    "    minIndex = 0\n",
    "    minimum = l[minIndex];\n",
    "    for curIndex in range (1, len(l)):\n",
    "        if l[curIndex] < l[minIndex]:\n",
    "            minIndex = curIndex\n",
    "            minimum = l[curIndex]\n",
    "    return minimum, minIndex\n",
    "rLowestErrorPercentage, rIndex = minimum(rAvgErrorL)\n",
    "gLowestErrorPercentage, gIndex = minimum(gAvgErrorL)\n",
    "bLowestErrorPercentage, bIndex = minimum(bAvgErrorL)\n",
    "print(\"The ideal frame around and time around is as follow\")\n",
    "print(\"for red: {0:2d} which is {1:.3f} seconds\".format((rIndex*2+2), (rIndex*2+2)/30))\n",
    "print(\"for green: {0:2d} which is {1:.3f} seconds\".format(gIndex*2+2, (gIndex*2+2)/30))\n",
    "print(\"for blue: {0:2d} which is {1:.3f} seconds\".format(bIndex*2+2, (bIndex*2+2)/30))\n"
   ]
  }
 ],
 "metadata": {
  "kernelspec": {
   "display_name": "Python 3",
   "language": "python",
   "name": "python3"
  },
  "language_info": {
   "codemirror_mode": {
    "name": "ipython",
    "version": 3
   },
   "file_extension": ".py",
   "mimetype": "text/x-python",
   "name": "python",
   "nbconvert_exporter": "python",
   "pygments_lexer": "ipython3",
   "version": "3.5.1"
  }
 },
 "nbformat": 4,
 "nbformat_minor": 0
}
