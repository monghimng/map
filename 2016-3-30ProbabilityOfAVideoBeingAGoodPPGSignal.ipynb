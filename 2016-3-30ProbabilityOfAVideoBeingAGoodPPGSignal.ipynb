{
 "cells": [
  {
   "cell_type": "markdown",
   "metadata": {},
   "source": [
    "## Finding and Graphing the Probability of a Video Being a Good Video"
   ]
  },
  {
   "cell_type": "markdown",
   "metadata": {},
   "source": [
    "Here we refer to the time window as the frame. Each frame is 0.033 sec front and back (so 0.67 total)"
   ]
  },
  {
   "cell_type": "code",
   "execution_count": 16,
   "metadata": {
    "collapsed": false
   },
   "outputs": [],
   "source": [
    "import numpy\n",
    "import matplotlib.pyplot as plt\n",
    "fps = 30.323427803\n"
   ]
  },
  {
   "cell_type": "code",
   "execution_count": 17,
   "metadata": {
    "collapsed": true
   },
   "outputs": [],
   "source": [
    "def readFromFile(fileName):\n",
    "    l =numpy.loadtxt(fileName)\n",
    "    return l[0], l[1], l[2]"
   ]
  },
  {
   "cell_type": "code",
   "execution_count": 18,
   "metadata": {
    "collapsed": true
   },
   "outputs": [],
   "source": [
    "def detectPeak(colorL, frameThreshold):\n",
    "    peakL = list()\n",
    "    colorlistLen = len(colorL)\n",
    "    for i in range(1, colorlistLen-1):\n",
    "        biggerThanPrevious = colorL[i] > colorL[i-1]\n",
    "        biggerThanAfter = colorL[i] > colorL[i+1]\n",
    "        #if it is a local maximum, then check if it is a RR peak by comparing its maxima interval to frameThreshold\n",
    "        if biggerThanPrevious and biggerThanAfter:\n",
    "            for k in range(2, frameThreshold+1):\n",
    "                if i-k >= 0:\n",
    "                    if not colorL[i] > colorL[i-k]:\n",
    "                        #this is not a rr peak\n",
    "                        break\n",
    "                if i+k < colorlistLen:\n",
    "                    if not colorL[i] > colorL[i+k]:\n",
    "                        #this is not a rr peak\n",
    "                        break\n",
    "            else:\n",
    "                #this IS a rr peak, store the array index\n",
    "                peakL.append(i)\n",
    "    return peakL"
   ]
  },
  {
   "cell_type": "code",
   "execution_count": 19,
   "metadata": {
    "collapsed": true
   },
   "outputs": [],
   "source": [
    "def constructRRIntervalList(peakL):\n",
    "    return [ (peakL[i]-peakL[i-1])/fps for i in range(1, len(peakL))]"
   ]
  },
  {
   "cell_type": "markdown",
   "metadata": {},
   "source": [
    "This function defines the criteria for being a true RR interval."
   ]
  },
  {
   "cell_type": "code",
   "execution_count": 20,
   "metadata": {
    "collapsed": true
   },
   "outputs": [],
   "source": [
    "def isTrueRRInterval(rrInterval):\n",
    "    if 0.54 <= rrInterval and rrInterval <= 1.0:\n",
    "        return True\n",
    "    else:\n",
    "        return False"
   ]
  },
  {
   "cell_type": "markdown",
   "metadata": {},
   "source": [
    "We define the percent error as following:\n",
    "\n",
    "$$\\epsilon^{(i)} = \\frac{\\text{# of wrong RR}}{\\text{# of RR}} x100$$"
   ]
  },
  {
   "cell_type": "markdown",
   "metadata": {},
   "source": [
    "This function detect the amount of errors in a list of RR interval, as judged by function isTrueRRInterval"
   ]
  },
  {
   "cell_type": "code",
   "execution_count": 21,
   "metadata": {
    "collapsed": false
   },
   "outputs": [],
   "source": [
    "def getPercentError(rrL):\n",
    "    errorNum = 0\n",
    "    for rrInterval in rrL:\n",
    "        if (not isTrueRRInterval(rrInterval)):\n",
    "            errorNum += 1\n",
    "    return 100.0*errorNum/len(rrL) if len(rrL) else 0"
   ]
  },
  {
   "cell_type": "markdown",
   "metadata": {},
   "source": [
    "This function analyze the rgb txt file of a PPG video and return important information."
   ]
  },
  {
   "cell_type": "code",
   "execution_count": 22,
   "metadata": {
    "collapsed": false
   },
   "outputs": [],
   "source": [
    "def analyzeVideoAndFindPercentErrorList(fileName):\n",
    "    rErrorL = []\n",
    "    gErrorL = []\n",
    "    bErrorL = []\n",
    "    rL, gL, bL = readFromFile(fileName)\n",
    "    for frameThreshold in range(1, 26):\n",
    "        rRRL = constructRRIntervalList(detectPeak(rL, frameThreshold))\n",
    "        gRRL = constructRRIntervalList(detectPeak(gL, frameThreshold))\n",
    "        bRRL = constructRRIntervalList(detectPeak(bL, frameThreshold))\n",
    "        rErrorL.append(getPercentError(rRRL))\n",
    "        gErrorL.append(getPercentError(gRRL))\n",
    "        bErrorL.append(getPercentError(bRRL))\n",
    "    return rErrorL, gErrorL, bErrorL"
   ]
  },
  {
   "cell_type": "code",
   "execution_count": 23,
   "metadata": {
    "collapsed": true
   },
   "outputs": [],
   "source": [
    "videoList = [\"/home/mong/Desktop/map/map/videos/VID_20150123_172926_F.mp4.txt\",\n",
    "                \"/home/mong/Desktop/map/map/videos/VID_20150123_173259_Q.mp4.txt\",\n",
    "                \"/home/mong/Desktop/map/map/videos/VID_20150123_173329_F.mp4.txt\",\n",
    "                \"/home/mong/Desktop/map/map/videos/VID_20150123_173358_Q.mp4.txt\",\n",
    "                \"/home/mong/Desktop/map/map/videos/VID_20150123_173427_F.mp4.txt\",\n",
    "                \"/home/mong/Desktop/map/map/videos/VID_20150123_173457_Q.mp4.txt\",\n",
    "                \"/home/mong/Desktop/map/map/videos/VID_20150123_173556_Q.mp4.txt\",\n",
    "                \"/home/mong/Desktop/map/map/videos/VID_20150123_173629_F.mp4.txt\",\n",
    "                \"/home/mong/Desktop/map/map/videos/VID_20150123_173700_Q.mp4.txt\",\n",
    "                \"/home/mong/Desktop/map/map/videos/VID_20150123_173757_Q.mp4.txt\",\n",
    "                \"/home/mong/Desktop/map/map/videos/VID_20150123_173028_F.mp4.txt\",\n",
    "                \"/home/mong/Desktop/map/map/videos/VID_20150123_172857_Q.mp4.txt\",\n",
    "                \"/home/mong/Desktop/map/map/videos/VID_20150123_173727_F.mp4.txt\",\n",
    "                \"/home/mong/Desktop/map/map/videos/VID_20150123_173527_F.mp4.txt\",\n",
    "                \"/home/mong/Desktop/map/map/videos/VID_20150123_173230_F.mp4.txt\",\n",
    "                \"/home/mong/Desktop/map/map/videos/VID_20150123_173157_Q.mp4.txt\",\n",
    "                \"/home/mong/Desktop/map/map/videos/VID_20150123_173127_F.mp4.txt\",\n",
    "                \"/home/mong/Desktop/map/map/videos/VID_20150123_173057_Q.mp4.txt\",\n",
    "                \"/home/mong/Desktop/map/map/videos/VID_20150123_172956_Q.mp4.txt\",\n",
    "                \"/home/mong/Desktop/map/map/videos/VID_20150123_172827_F.mp4.txt\"]"
   ]
  },
  {
   "cell_type": "code",
   "execution_count": 24,
   "metadata": {
    "collapsed": false
   },
   "outputs": [],
   "source": [
    "rAvgErrorL = [0 for i in range(0, 25)]\n",
    "gAvgErrorL = [0 for i in range(0, 25)]\n",
    "bAvgErrorL = [0 for i in range(0, 25)]\n",
    "vidPPGL = {}\n",
    "for video in videoList:\n",
    "    rErrorL, gErrorL, bErrorL = analyzeVideoAndFindPercentErrorList(video)\n",
    "    vidPPGL[video+'|red|'+str(rErrorL.index(min(rErrorL))*2+2)] = min(rErrorL)\n",
    "def isInRange(begin, end, value):\n",
    "    return begin <= value and value < end\n",
    "def numOfVidInBeam(begin, end):\n",
    "    num = 0\n",
    "    for vidName in vidPPGL:\n",
    "        if isInRange(begin, end, vidPPGL[vidName]):\n",
    "            num += 1\n",
    "    return num\n",
    "probabilityArray = [numOfVidInBeam(0,3),\n",
    "                    numOfVidInBeam(3,5),\n",
    "                    numOfVidInBeam(5,10),\n",
    "                    numOfVidInBeam(10,15),\n",
    "                    numOfVidInBeam(15,25),\n",
    "                    numOfVidInBeam(25,101)]\n"
   ]
  },
  {
   "cell_type": "code",
   "execution_count": 25,
   "metadata": {
    "collapsed": false,
    "scrolled": true
   },
   "outputs": [
    {
     "data": {
      "image/png": "[encoded data removed]",
      "text/plain": [
       "<matplotlib.figure.Figure at 0x7f079040aeb8>"
      ]
     },
     "metadata": {},
     "output_type": "display_data"
    }
   ],
   "source": [
    "%matplotlib inline\n",
    "plt.rcParams['figure.figsize'] = (10, 6)\n",
    "plt.rcParams['figure.figsize'] = (10, 6)\n",
    "beams = ('0%-3%', '3%-5%', '5%-10%', '10-15%', '15-25%','25%-100%')\n",
    "y_pos = numpy.arange(len(beams))\n",
    "\n",
    "plt.barh(y_pos, probabilityArray,align='center', alpha=0.4)\n",
    "plt.yticks(y_pos, beams)\n",
    "plt.xlabel('Number of Video')\n",
    "plt.ylabel('Percent Error')\n",
    "plt.xlim(0, len(videoList))\n",
    "plt.title('Percent Errors in 4 Beams')\n",
    "plt.show()"
   ]
  },
  {
   "cell_type": "markdown",
   "metadata": {},
   "source": [
    "If we define a good video to have percent error less than 10%, then the probability of a video being a good one is:"
   ]
  },
  {
   "cell_type": "code",
   "execution_count": 26,
   "metadata": {
    "collapsed": false
   },
   "outputs": [
    {
     "data": {
      "text/plain": [
       "0.4"
      ]
     },
     "execution_count": 26,
     "metadata": {},
     "output_type": "execute_result"
    }
   ],
   "source": [
    "numOfVidInBeam(0,10)/len(videoList)"
   ]
  },
  {
   "cell_type": "markdown",
   "metadata": {},
   "source": [
    "But if we define a good video to have percent error less than 25%, then the probability of a video being a good one is:"
   ]
  },
  {
   "cell_type": "code",
   "execution_count": 27,
   "metadata": {
    "collapsed": false
   },
   "outputs": [
    {
     "data": {
      "text/plain": [
       "0.8"
      ]
     },
     "execution_count": 27,
     "metadata": {},
     "output_type": "execute_result"
    }
   ],
   "source": [
    "numOfVidInBeam(0,25)/len(videoList)"
   ]
  },
  {
   "cell_type": "code",
   "execution_count": 28,
   "metadata": {
    "collapsed": false
   },
   "outputs": [
    {
     "name": "stdout",
     "output_type": "stream",
     "text": [
      "/home/mong/Desktop/map/map/videos/VID_20150123_172926_F.mp4.txt|red|14     2.5641025641025643\n",
      "/home/mong/Desktop/map/map/videos/VID_20150123_173329_F.mp4.txt|red|6     69.04761904761905\n",
      "/home/mong/Desktop/map/map/videos/VID_20150123_173700_Q.mp4.txt|red|12     13.793103448275861\n",
      "/home/mong/Desktop/map/map/videos/VID_20150123_173527_F.mp4.txt|red|22     56.52173913043478\n",
      "/home/mong/Desktop/map/map/videos/VID_20150123_173727_F.mp4.txt|red|18     14.285714285714286\n",
      "/home/mong/Desktop/map/map/videos/VID_20150123_173259_Q.mp4.txt|red|12     13.333333333333334\n",
      "/home/mong/Desktop/map/map/videos/VID_20150123_173427_F.mp4.txt|red|12     6.0606060606060606\n",
      "/home/mong/Desktop/map/map/videos/VID_20150123_173057_Q.mp4.txt|red|12     25.806451612903224\n",
      "/home/mong/Desktop/map/map/videos/VID_20150123_172827_F.mp4.txt|red|10     2.3255813953488373\n",
      "/home/mong/Desktop/map/map/videos/VID_20150123_173230_F.mp4.txt|red|14     4.761904761904762\n",
      "/home/mong/Desktop/map/map/videos/VID_20150123_173757_Q.mp4.txt|red|10     13.333333333333334\n",
      "/home/mong/Desktop/map/map/videos/VID_20150123_173127_F.mp4.txt|red|8     2.3255813953488373\n",
      "/home/mong/Desktop/map/map/videos/VID_20150123_173028_F.mp4.txt|red|8     0.0\n",
      "/home/mong/Desktop/map/map/videos/VID_20150123_173157_Q.mp4.txt|red|12     10.0\n",
      "/home/mong/Desktop/map/map/videos/VID_20150123_173457_Q.mp4.txt|red|10     13.333333333333334\n",
      "/home/mong/Desktop/map/map/videos/VID_20150123_173556_Q.mp4.txt|red|12     12.903225806451612\n",
      "/home/mong/Desktop/map/map/videos/VID_20150123_173629_F.mp4.txt|red|14     33.333333333333336\n",
      "/home/mong/Desktop/map/map/videos/VID_20150123_172956_Q.mp4.txt|red|10     16.666666666666668\n",
      "/home/mong/Desktop/map/map/videos/VID_20150123_173358_Q.mp4.txt|red|14     6.896551724137931\n",
      "/home/mong/Desktop/map/map/videos/VID_20150123_172857_Q.mp4.txt|red|12     6.0606060606060606\n"
     ]
    }
   ],
   "source": [
    "for vidName in vidPPGL:\n",
    "    print(vidName, \"   \",vidPPGL[vidName])"
   ]
  },
  {
   "cell_type": "code",
   "execution_count": null,
   "metadata": {
    "collapsed": true
   },
   "outputs": [],
   "source": []
  }
 ],
 "metadata": {
  "kernelspec": {
   "display_name": "Python 3",
   "language": "python",
   "name": "python3"
  },
  "language_info": {
   "codemirror_mode": {
    "name": "ipython",
    "version": 3
   },
   "file_extension": ".py",
   "mimetype": "text/x-python",
   "name": "python",
   "nbconvert_exporter": "python",
   "pygments_lexer": "ipython3",
   "version": "3.5.1"
  }
 },
 "nbformat": 4,
 "nbformat_minor": 0
}
