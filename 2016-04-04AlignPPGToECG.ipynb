{
 "cells": [
  {
   "cell_type": "markdown",
   "metadata": {},
   "source": [
    "## Aligning PPG To ECG"
   ]
  },
  {
   "cell_type": "markdown",
   "metadata": {},
   "source": [
    "Here we refer to the time window as the frame. Each frame is 0.033 sec front and back (so 0.67 total)"
   ]
  },
  {
   "cell_type": "code",
   "execution_count": 1,
   "metadata": {
    "collapsed": false
   },
   "outputs": [],
   "source": [
    "import numpy\n",
    "import matplotlib.pyplot as plt\n",
    "import os\n",
    "fps = 30.323427803"
   ]
  },
  {
   "cell_type": "code",
   "execution_count": 2,
   "metadata": {
    "collapsed": false
   },
   "outputs": [],
   "source": [
    "def convertStrLToIntL(array):\n",
    "    for i in range(len(array)):\n",
    "        array[i] = int(array[i])\n",
    "    return array\n",
    "f = open('/home/mong/Desktop/map/map/videos/15012301_GIO.hrm', 'r')\n",
    "inputSectionList = f.read().split('\\n\\n')\n",
    "rrSection = inputSectionList[-1]\n",
    "rrData = rrSection.split('\\n')\n",
    "#get rid of header\n",
    "ecg1 = rrData[1:-1]\n",
    "ecg1 = convertStrLToIntL (ecg1)\n",
    "\n",
    "#second hrm file\n",
    "f = open('/home/mong/Desktop/map/map/videos/15012301_GLO.hrm', 'r')\n",
    "inputSectionList = f.read().split('\\n\\n')\n",
    "rrSection = inputSectionList[-2]\n",
    "rrData = rrSection.split('\\n')\n",
    "#get rid of header\n",
    "ecg2 = rrData[1:]\n",
    "ecg2 = convertStrLToIntL (ecg2)"
   ]
  },
  {
   "cell_type": "code",
   "execution_count": 3,
   "metadata": {
    "collapsed": true
   },
   "outputs": [],
   "source": [
    "def readFromFile(fileName):\n",
    "    l =numpy.loadtxt(fileName)\n",
    "    return l[0], l[1], l[2]"
   ]
  },
  {
   "cell_type": "code",
   "execution_count": 4,
   "metadata": {
    "collapsed": true
   },
   "outputs": [],
   "source": [
    "def detectPeak(colorL, frameThreshold):\n",
    "    peakL = list()\n",
    "    colorlistLen = len(colorL)\n",
    "    for i in range(1, colorlistLen-1):\n",
    "        biggerThanPrevious = colorL[i] > colorL[i-1]\n",
    "        biggerThanAfter = colorL[i] > colorL[i+1]\n",
    "        #if it is a local maximum, then check if it is a RR peak by comparing its maxima interval to frameThreshold\n",
    "        if biggerThanPrevious and biggerThanAfter:\n",
    "            for k in range(2, frameThreshold+1):\n",
    "                if i-k >= 0:\n",
    "                    if not colorL[i] > colorL[i-k]:\n",
    "                        #this is not a rr peak\n",
    "                        break\n",
    "                if i+k < colorlistLen:\n",
    "                    if not colorL[i] > colorL[i+k]:\n",
    "                        #this is not a rr peak\n",
    "                        break\n",
    "            else:\n",
    "                #this IS a rr peak, store the array index\n",
    "                peakL.append(i)\n",
    "    return peakL"
   ]
  },
  {
   "cell_type": "code",
   "execution_count": 5,
   "metadata": {
    "collapsed": true
   },
   "outputs": [],
   "source": [
    "def constructRRIntervalList(peakL):\n",
    "    return [ (peakL[i]-peakL[i-1])/fps for i in range(1, len(peakL))]"
   ]
  },
  {
   "cell_type": "code",
   "execution_count": 6,
   "metadata": {
    "collapsed": true
   },
   "outputs": [],
   "source": [
    "def isTrueRRInterval(rrInterval):\n",
    "    if 0.54 <= rrInterval and rrInterval <= 1.0:\n",
    "        return True\n",
    "    else:\n",
    "        return False"
   ]
  },
  {
   "cell_type": "code",
   "execution_count": 7,
   "metadata": {
    "collapsed": true
   },
   "outputs": [],
   "source": [
    "def getPercentError(rrL):\n",
    "    errorNum = 0\n",
    "    for rrInterval in rrL:\n",
    "        if (not isTrueRRInterval(rrInterval)):\n",
    "            errorNum += 1\n",
    "    return 100.0*errorNum/len(rrL) if len(rrL) else 0\n"
   ]
  },
  {
   "cell_type": "code",
   "execution_count": 8,
   "metadata": {
    "collapsed": false
   },
   "outputs": [],
   "source": [
    "def analyzeVideoAndObtainBestRedRRInterval(fileName):\n",
    "    rErrorL = []\n",
    "    rL, gL, bL = readFromFile(fileName)\n",
    "    bestRRL = None\n",
    "    bestPercentErrorSoFar = 101\n",
    "    for frameThreshold in range(1, 26):\n",
    "        rRRL = constructRRIntervalList(detectPeak(rL, frameThreshold))\n",
    "        if getPercentError(rRRL) < bestPercentErrorSoFar:\n",
    "            bestPercentErrorSoFar = getPercentError(rRRL)\n",
    "            bestRRL = rRRL\n",
    "    return bestRRL"
   ]
  },
  {
   "cell_type": "code",
   "execution_count": 9,
   "metadata": {
    "collapsed": true
   },
   "outputs": [],
   "source": [
    "videoList = [\"/home/mong/Desktop/map/map/videos/VID_20150123_172926_F.mp4.txt\",\n",
    "    \"/home/mong/Desktop/map/map/videos/VID_20150123_173259_Q.mp4.txt\",\n",
    "    \"/home/mong/Desktop/map/map/videos/VID_20150123_173329_F.mp4.txt\",\n",
    "    \"/home/mong/Desktop/map/map/videos/VID_20150123_173358_Q.mp4.txt\",\n",
    "    \"/home/mong/Desktop/map/map/videos/VID_20150123_173427_F.mp4.txt\",\n",
    "    \"/home/mong/Desktop/map/map/videos/VID_20150123_173457_Q.mp4.txt\",\n",
    "    \"/home/mong/Desktop/map/map/videos/VID_20150123_173556_Q.mp4.txt\",\n",
    "    \"/home/mong/Desktop/map/map/videos/VID_20150123_173629_F.mp4.txt\",\n",
    "    \"/home/mong/Desktop/map/map/videos/VID_20150123_173700_Q.mp4.txt\",\n",
    "    \"/home/mong/Desktop/map/map/videos/VID_20150123_173757_Q.mp4.txt\",\n",
    "    \"/home/mong/Desktop/map/map/videos/VID_20150123_173028_F.mp4.txt\",\n",
    "    \"/home/mong/Desktop/map/map/videos/VID_20150123_172857_Q.mp4.txt\"]"
   ]
  },
  {
   "cell_type": "code",
   "execution_count": 10,
   "metadata": {
    "collapsed": true
   },
   "outputs": [],
   "source": [
    "def convertSecToMS(array):\n",
    "    for i in range(len(array)):\n",
    "        array[i] = round(array[i]*1000)\n",
    "    return array"
   ]
  },
  {
   "cell_type": "code",
   "execution_count": 11,
   "metadata": {
    "collapsed": false
   },
   "outputs": [],
   "source": [
    "vidPPGL = {}\n",
    "for video in videoList:\n",
    "    vidPPGL[os.path.basename(video)] = convertSecToMS(analyzeVideoAndObtainBestRedRRInterval(video))\n",
    "    "
   ]
  },
  {
   "cell_type": "code",
   "execution_count": 12,
   "metadata": {
    "collapsed": false
   },
   "outputs": [],
   "source": [
    "def constructTimeListFromRRInterval(rrList):\n",
    "    #construct time array from the rr intervals\n",
    "    tList = []\n",
    "    tList.append(float(rrList[0]))\n",
    "    for i in range(1, len(rrList)):\n",
    "        tList.append(tList[-1] + float(rrList[i]))\n",
    "    return tList"
   ]
  },
  {
   "cell_type": "code",
   "execution_count": 13,
   "metadata": {
    "collapsed": false
   },
   "outputs": [
    {
     "data": {
      "text/plain": [
       "5"
      ]
     },
     "execution_count": 13,
     "metadata": {},
     "output_type": "execute_result"
    }
   ],
   "source": [
    "mong =0\n",
    "def getInsertionIndex(array, v):\n",
    "    #v is not in range of array\n",
    "    if v < array[0] or array[-1] < v:\n",
    "        return -1\n",
    "    for i in range(len(array)):\n",
    "        if v < array[i]:\n",
    "            return i-1\n",
    "l = [833.0, 1686.0, 2553.0, 3369.0, 4141.0, 4918.0, 5720.0]\n",
    "getInsertionIndex(l, 5000) "
   ]
  },
  {
   "cell_type": "code",
   "execution_count": 17,
   "metadata": {
    "collapsed": false
   },
   "outputs": [
    {
     "name": "stdout",
     "output_type": "stream",
     "text": [
      "aligning video to first ecg signals\n",
      "VID_20150123_173629_F.mp4.txt 0.013883333333333333 min\n",
      "VID_20150123_173427_F.mp4.txt 0.44708333333333333 min\n",
      "VID_20150123_173757_Q.mp4.txt 9.419216666666667 min\n",
      "VID_20150123_172926_F.mp4.txt 0.013883333333333333 min\n",
      "VID_20150123_173700_Q.mp4.txt 8.460049999999999 min\n",
      "VID_20150123_173259_Q.mp4.txt 4.455616666666667 min\n",
      "VID_20150123_173358_Q.mp4.txt 5.437783333333334 min\n",
      "VID_20150123_173329_F.mp4.txt 0.0281 min\n",
      "VID_20150123_173028_F.mp4.txt 0.013883333333333333 min\n",
      "VID_20150123_173457_Q.mp4.txt 6.4153 min\n",
      "VID_20150123_172857_Q.mp4.txt 0.44708333333333333 min\n",
      "VID_20150123_173556_Q.mp4.txt 7.4055333333333335 min\n",
      "aligning video to second ecg signals\n",
      "VID_20150123_173629_F.mp4.txt 8.502066666666668 min\n",
      "VID_20150123_173427_F.mp4.txt 8.5252 min\n",
      "VID_20150123_173757_Q.mp4.txt 8.558833333333334 min\n",
      "VID_20150123_172926_F.mp4.txt 1.6038166666666667 min\n",
      "VID_20150123_173700_Q.mp4.txt 8.571316666666668 min\n",
      "VID_20150123_173259_Q.mp4.txt 8.583133333333333 min\n",
      "VID_20150123_173358_Q.mp4.txt 8.571316666666668 min\n",
      "VID_20150123_173329_F.mp4.txt 3.013733333333333 min\n",
      "VID_20150123_173028_F.mp4.txt 2.616016666666667 min\n",
      "VID_20150123_173457_Q.mp4.txt 8.583133333333333 min\n",
      "VID_20150123_172857_Q.mp4.txt 8.513933333333332 min\n",
      "VID_20150123_173556_Q.mp4.txt 8.558833333333334 min\n"
     ]
    }
   ],
   "source": [
    "mong = 0\n",
    "def align(ecg, ppg):\n",
    "    ecgTimeL = constructTimeListFromRRInterval(ecg)\n",
    "    ppgTimeL = constructTimeListFromRRInterval(ppg)\n",
    "    def getAlignmentDistanceForOneRR(timeOffset, rrIndex):\n",
    "        #calculate projected distance from ppg to ecg\n",
    "        ppgTimeProjectedOntoEcg = ppgTimeL[rrIndex] + timeOffset\n",
    "        ecgProjectedIndexLeft = getInsertionIndex(ecgTimeL, ppgTimeProjectedOntoEcg)\n",
    "        #if out of bound\n",
    "        if ecgProjectedIndexLeft == -1:\n",
    "            return -1\n",
    "        ecgProjectedIndexRight = ecgProjectedIndexLeft+1\n",
    "        slope = (ecg[ecgProjectedIndexRight]-ecg[ecgProjectedIndexLeft])/(ecgTimeL[ecgProjectedIndexRight]-ecgTimeL[ecgProjectedIndexLeft])\n",
    "        deltaT = ppgTimeProjectedOntoEcg - ecgTimeL[ecgProjectedIndexLeft]\n",
    "        deltaRR = slope * deltaT\n",
    "        projectedRR = ecg[ecgProjectedIndexLeft] + deltaRR\n",
    "        \n",
    "                           \n",
    "        return abs(projectedRR - ppg[rrIndex])\n",
    "#     distanceForCurrentRR = getAlignmentDistanceForOneRR(ecgTimeL[1], 1)\n",
    "    #begin alignment\n",
    "    alignmentT = None\n",
    "    minDistance = 100000\n",
    "    #align according to the first rr of ppg\n",
    "    for timeOffset in ecgTimeL:\n",
    "        breakOuter = False\n",
    "        totalDistance = 0\n",
    "        for rrIndex in range(len(ppg)):\n",
    "            distanceForCurrentRR = getAlignmentDistanceForOneRR(timeOffset, rrIndex)\n",
    "            if distanceForCurrentRR == -1:\n",
    "                return alignmentT, minDistance\n",
    "            totalDistance += distanceForCurrentRR\n",
    "        if totalDistance < minDistance:\n",
    "            minDistance = totalDistance\n",
    "            alignmentT = timeOffset\n",
    "#     #in case the first rr from ppg is a false rr\n",
    "#     for timeOffset in ecgTimeL:\n",
    "#         totalDistance = 0\n",
    "#         for rrIndex in range(len(ppg)):\n",
    "#             distanceForCurrentRR = getAlignmentDistanceForOneRR(timeOffset - ppgTimeL[0], rrIndex)\n",
    "#             if distanceForCurrentRR == -1:\n",
    "#                 continue\n",
    "#             totalDistance += distanceForCurrentRR\n",
    "#         if totalDistance < minDistance:\n",
    "#             minDistance = totalDistance\n",
    "#             alignmentT = timeOffset\n",
    "    return alignmentT, minDistance\n",
    "print('aligning video to first ecg signals')\n",
    "for vid in vidPPGL:\n",
    "    alignmentT, minDistance = align(ecg1, vidPPGL[vid])\n",
    "    alignmentT = alignmentT/60/1000\n",
    "    print(vid, alignmentT, 'min')\n",
    "print('aligning video to second ecg signals')\n",
    "for vid in vidPPGL:\n",
    "    alignmentT, minDistance = align(ecg2, vidPPGL[vid])\n",
    "    alignmentT = alignmentT/60/1000\n",
    "    print(vid, alignmentT, 'min')"
   ]
  },
  {
   "cell_type": "markdown",
   "metadata": {
    "collapsed": true
   },
   "source": [
    "[ \\sum_{i=1}^{30} \\abs( x(i)-y(i) ) ] / [ \\sum_{i=1}^{30} \\abs( x(i) "
   ]
  },
  {
   "cell_type": "code",
   "execution_count": null,
   "metadata": {
    "collapsed": true
   },
   "outputs": [],
   "source": []
  },
  {
   "cell_type": "code",
   "execution_count": 15,
   "metadata": {
    "collapsed": false
   },
   "outputs": [
    {
     "data": {
      "image/png": "[encoded data removed]",
      "text/plain": [
       "<matplotlib.figure.Figure at 0x7f91114d5fd0>"
      ]
     },
     "metadata": {},
     "output_type": "display_data"
    },
    {
     "data": {
      "image/png": "[encoded data removed]",
      "text/plain": [
       "<matplotlib.figure.Figure at 0x7f910f5b4f98>"
      ]
     },
     "metadata": {},
     "output_type": "display_data"
    }
   ],
   "source": [
    "def plot(tList, rrList):\n",
    "    #plotting the graph\n",
    "    plt.plot(tList, rrList)\n",
    "    plt.xlabel('Time in Second')\n",
    "    plt.ylabel('RR Interval in Milisecond')\n",
    "    plt.title('Timve vs RR Interval')\n",
    "    plt.show()\n",
    "# alignmentT, minDistance = align(ecg1, vidPPGL['VID_20150123_173457_Q.mp4.txt'])\n",
    "%matplotlib inline\n",
    "plt.plot(constructTimeListFromRRInterval(vidPPGL['VID_20150123_173457_Q.mp4.txt']), vidPPGL['VID_20150123_173457_Q.mp4.txt'])\n",
    "plt.xlabel('Time in Second')\n",
    "plt.ylabel('RR Interval in Milisecond')\n",
    "plt.title('Timve vs RR Interval')\n",
    "plt.show()\n",
    "\n",
    "\n",
    "\n",
    "\n",
    "plt.plot(constructTimeListFromRRInterval(ecg1), ecg1)\n",
    "plt.xlabel('Time in Second')\n",
    "plt.ylabel('RR Interval in Milisecond')\n",
    "plt.title('Timve vs RR Interval')\n",
    "plt.xlim(5.43*60*1000, 5.43*60*1000+30000)\n",
    "plt.ylim(880,1040)\n",
    "plt.show()\n"
   ]
  },
  {
   "cell_type": "code",
   "execution_count": null,
   "metadata": {
    "collapsed": true
   },
   "outputs": [],
   "source": []
  },
  {
   "cell_type": "code",
   "execution_count": null,
   "metadata": {
    "collapsed": true
   },
   "outputs": [],
   "source": []
  },
  {
   "cell_type": "code",
   "execution_count": null,
   "metadata": {
    "collapsed": true
   },
   "outputs": [],
   "source": []
  }
 ],
 "metadata": {
  "kernelspec": {
   "display_name": "Python 3",
   "language": "python",
   "name": "python3"
  },
  "language_info": {
   "codemirror_mode": {
    "name": "ipython",
    "version": 3
   },
   "file_extension": ".py",
   "mimetype": "text/x-python",
   "name": "python",
   "nbconvert_exporter": "python",
   "pygments_lexer": "ipython3",
   "version": "3.5.1"
  }
 },
 "nbformat": 4,
 "nbformat_minor": 0
}
