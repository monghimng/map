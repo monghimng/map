{
 "cells": [
  {
   "cell_type": "markdown",
   "metadata": {},
   "source": [
    "# Finding the Optimal Time Window for Detecting RR Interval"
   ]
  },
  {
   "cell_type": "code",
   "execution_count": 67,
   "metadata": {
    "collapsed": false
   },
   "outputs": [],
   "source": [
    "import numpy\n",
    "import matplotlib.pyplot as plt\n",
    "#%matplotlib inline\n",
    "fps = 30.323427803"
   ]
  },
  {
   "cell_type": "markdown",
   "metadata": {},
   "source": [
    "This function obtains a list of color component from txt file.\n"
   ]
  },
  {
   "cell_type": "code",
   "execution_count": 68,
   "metadata": {
    "collapsed": true
   },
   "outputs": [],
   "source": [
    "def readFromFile(fileName):\n",
    "    l =numpy.loadtxt(fileName)\n",
    "    return l[0], l[1], l[2]"
   ]
  },
  {
   "cell_type": "markdown",
   "metadata": {},
   "source": [
    "This function runs through the color list, returns the peak that are local maxima for an interval of 2 times the frameThreshold. It returns the list of peaks. For exmple, if frameThreshold is 10, it returns only the maxima that are greater than the values of 10 frames before and those of 10 frames after."
   ]
  },
  {
   "cell_type": "code",
   "execution_count": 69,
   "metadata": {
    "collapsed": true
   },
   "outputs": [],
   "source": [
    "def detectPeak(colorL, frameThreshold):\n",
    "    peakL = list()\n",
    "    colorlistLen = len(colorL)\n",
    "    for i in range(1, colorlistLen-1):\n",
    "        biggerThanPrevious = colorL[i] > colorL[i-1]\n",
    "        biggerThanAfter = colorL[i] > colorL[i+1]\n",
    "        #if it is a local maximum, then check if it is a RR peak by comparing its maxima interval to frameThreshold\n",
    "        if biggerThanPrevious and biggerThanAfter:\n",
    "            for k in range(2, frameThreshold+1):\n",
    "                if i-k >= 0:\n",
    "                    if not colorL[i] > colorL[i-k]:\n",
    "                        #this is not a rr peak\n",
    "                        break\n",
    "                if i+k < colorlistLen:\n",
    "                    if not colorL[i] > colorL[i+k]:\n",
    "                        #this is not a rr peak\n",
    "                        break\n",
    "            else:\n",
    "                #this IS a rr peak, store the array index\n",
    "                peakL.append(i)\n",
    "    return peakL"
   ]
  },
  {
   "cell_type": "markdown",
   "metadata": {},
   "source": [
    "This function constructs rr Interval list from the peak list generated from detectPeak function"
   ]
  },
  {
   "cell_type": "code",
   "execution_count": 70,
   "metadata": {
    "collapsed": true
   },
   "outputs": [],
   "source": [
    "def constructRRIntervalList(peakL):\n",
    "    return [ (peakL[i]-peakL[i-1])/fps for i in range(1, len(peakL))]"
   ]
  },
  {
   "cell_type": "code",
   "execution_count": 71,
   "metadata": {
    "collapsed": true
   },
   "outputs": [],
   "source": [
    "def constructTimeListFromRRList(rrL):\n",
    "    tL = list()\n",
    "    tL.append(rrL[0])\n",
    "    for i in range(1, len(rrL)):\n",
    "        tL.append(tL[i-1]+rrL[i])\n",
    "    return tL"
   ]
  },
  {
   "cell_type": "markdown",
   "metadata": {},
   "source": [
    "This function graph the data."
   ]
  },
  {
   "cell_type": "code",
   "execution_count": 72,
   "metadata": {
    "collapsed": true
   },
   "outputs": [],
   "source": [
    "def plot(inVarList, deVarList, inVarName, deVarName, yBegin=0, yEnd=1.5):\n",
    "    plt.plot(inVarList, deVarList)\n",
    "    plt.xlabel(inVarName)\n",
    "    plt.ylabel(deVarName)\n",
    "    plt.title(inVarName+' vs '+deVarName)\n",
    "    plt.ylim(yBegin, yEnd)\n",
    "    plt.show()"
   ]
  },
  {
   "cell_type": "markdown",
   "metadata": {},
   "source": [
    "This function defines the criteria for being a true RR interval."
   ]
  },
  {
   "cell_type": "code",
   "execution_count": 73,
   "metadata": {
    "collapsed": true
   },
   "outputs": [],
   "source": [
    "def isTrueRRInterval(rrInterval):\n",
    "    if 0.8 <= rrInterval and rrInterval <= 1.2:\n",
    "        return True\n",
    "    else:\n",
    "        return False"
   ]
  },
  {
   "cell_type": "markdown",
   "metadata": {},
   "source": [
    "This function detect the amount of errors in a list of RR interval, as judged by function isTrueRRInterval"
   ]
  },
  {
   "cell_type": "code",
   "execution_count": 74,
   "metadata": {
    "collapsed": false
   },
   "outputs": [],
   "source": [
    "def getAmountOfError(rrL):\n",
    "    errorNum = 0\n",
    "    for rrInterval in rrL:\n",
    "        if (not isTrueRRInterval(rrInterval)):\n",
    "            errorNum += 1\n",
    "    return errorNum"
   ]
  },
  {
   "cell_type": "markdown",
   "metadata": {},
   "source": [
    "This function analyze the rgb txt file of a PPG video and return important information."
   ]
  },
  {
   "cell_type": "code",
   "execution_count": 78,
   "metadata": {
    "collapsed": true
   },
   "outputs": [],
   "source": [
    "def analyzeVideoRGB(fileName):\n",
    "    print(\"Analyzing \"+fileName)\n",
    "    rL, gL, bL = readFromFile(fileName)\n",
    "    for frameThreshold in range(12, 13):\n",
    "        rRRL = constructRRIntervalList(detectPeak(rL, frameThreshold))\n",
    "        gRRL = constructRRIntervalList(detectPeak(gL, frameThreshold))\n",
    "        bRRL = constructRRIntervalList(detectPeak(bL, frameThreshold))\n",
    "        rError = getAmountOfError(rRRL)\n",
    "        gError = getAmountOfError(gRRL)\n",
    "        bError = getAmountOfError(bRRL)\n",
    "        print(\"For Frame Threshold of {:2d}: Red has {:2d} errors | Green has {:2d} errors | Blue has {:2d} errors\"\n",
    "              .format(frameThreshold*2, rError, gError, bError))"
   ]
  },
  {
   "cell_type": "markdown",
   "metadata": {},
   "source": [
    "# Debug"
   ]
  },
  {
   "cell_type": "code",
   "execution_count": 80,
   "metadata": {
    "collapsed": false
   },
   "outputs": [
    {
     "name": "stdout",
     "output_type": "stream",
     "text": [
      "Analyzing /home/mong/Desktop/map/map/videos/VID_20150123_172926_F.mp4.txt\n",
      "For Frame Threshold of 24: Red has 39 errors | Green has 41 errors | Blue has 39 errors\n",
      "\n",
      "\n",
      "Analyzing /home/mong/Desktop/map/map/videos/VID_20150123_173259_Q.mp4.txt\n",
      "For Frame Threshold of 24: Red has  2 errors | Green has  2 errors | Blue has  9 errors\n",
      "\n",
      "\n"
     ]
    }
   ],
   "source": [
    "videoList = [\"/home/mong/Desktop/map/map/videos/VID_20150123_172926_F.mp4.txt\",\n",
    "    \"/home/mong/Desktop/map/map/videos/VID_20150123_173259_Q.mp4.txt\"]\n",
    "for video in videoList:\n",
    "    analyzeVideoRGB(video)\n",
    "    print(\"\\n\")"
   ]
  },
  {
   "cell_type": "markdown",
   "metadata": {},
   "source": [
    "# The first video that has a lower avgergae rr interval"
   ]
  },
  {
   "cell_type": "code",
   "execution_count": 82,
   "metadata": {
    "collapsed": false
   },
   "outputs": [
    {
     "data": {
      "image/png": "[encoded data removed]",
      "text/plain": [
       "<matplotlib.figure.Figure at 0x7f521faa3128>"
      ]
     },
     "metadata": {},
     "output_type": "display_data"
    }
   ],
   "source": [
    "rL, gL, bL = readFromFile(\"/home/mong/Desktop/map/map/videos/VID_20150123_172926_F.mp4.txt\")\n",
    "def constructTimeList(numOfElement, deltaTime):\n",
    "    l = list()\n",
    "    l.append(0)\n",
    "    for i in range(1, numOfElement):\n",
    "        l.append(l[i-1]+deltaTime)\n",
    "    return l\n",
    "tL = constructTimeList(len(rL), 1/fps)\n",
    "pL = detectPeak(rL, 10)\n",
    "plt.plot(tL, rL)\n",
    "plt.xlabel(\"time\")\n",
    "plt.ylabel(\"r\")\n",
    "plt.title(\"time\"+' vs '+\"r\")\n",
    "plt.plot([p/30.32 for p in pL],[rL[p] for p in pL],'ro')\n",
    "plt.show()\n",
    "# plot(tL, rL, \"time\", \"R color\", yBegin=199, yEnd=204)\n"
   ]
  },
  {
   "cell_type": "code",
   "execution_count": 83,
   "metadata": {
    "collapsed": false
   },
   "outputs": [
    {
     "data": {
      "text/plain": [
       "[0.7255116454157423,\n",
       " 0.6925338433513905,\n",
       " 0.7255116454157423,\n",
       " 0.7255116454157423,\n",
       " 0.7584894474800943,\n",
       " 0.6595560412870385,\n",
       " 0.6595560412870385,\n",
       " 0.6595560412870385,\n",
       " 1.319112082574077,\n",
       " 0.6265782392226866,\n",
       " 0.6595560412870385,\n",
       " 0.6265782392226866,\n",
       " 0.7255116454157423,\n",
       " 0.7255116454157423,\n",
       " 0.6925338433513905,\n",
       " 0.6595560412870385,\n",
       " 0.7255116454157423,\n",
       " 0.7255116454157423,\n",
       " 0.7255116454157423,\n",
       " 0.6595560412870385,\n",
       " 0.6265782392226866,\n",
       " 0.7255116454157423,\n",
       " 0.6925338433513905,\n",
       " 0.6595560412870385,\n",
       " 0.6265782392226866,\n",
       " 0.6925338433513905,\n",
       " 0.7255116454157423,\n",
       " 0.6925338433513905,\n",
       " 0.6595560412870385,\n",
       " 0.5936004371583347,\n",
       " 0.6265782392226866,\n",
       " 0.6925338433513905,\n",
       " 0.6925338433513905,\n",
       " 0.6925338433513905,\n",
       " 0.6925338433513905,\n",
       " 0.7255116454157423,\n",
       " 0.6595560412870385,\n",
       " 0.6595560412870385,\n",
       " 0.6595560412870385]"
      ]
     },
     "execution_count": 83,
     "metadata": {},
     "output_type": "execute_result"
    }
   ],
   "source": [
    "constructRRIntervalList(pL)"
   ]
  },
  {
   "cell_type": "markdown",
   "metadata": {},
   "source": [
    "# The second video that has higher average rr interval, which happens to fit in 0.8-1.2"
   ]
  },
  {
   "cell_type": "code",
   "execution_count": 84,
   "metadata": {
    "collapsed": false
   },
   "outputs": [
    {
     "data": {
      "image/png": "[encoded data removed]",
      "text/plain": [
       "<matplotlib.figure.Figure at 0x7f5211388ef0>"
      ]
     },
     "metadata": {},
     "output_type": "display_data"
    }
   ],
   "source": [
    "rL, gL, bL = readFromFile(\"/home/mong/Desktop/map/map/videos/VID_20150123_173259_Q.mp4.txt\")\n",
    "def constructTimeList(numOfElement, deltaTime):\n",
    "    l = list()\n",
    "    l.append(0)\n",
    "    for i in range(1, numOfElement):\n",
    "        l.append(l[i-1]+deltaTime)\n",
    "    return l\n",
    "tL = constructTimeList(len(rL), 1/fps)\n",
    "pL = detectPeak(rL, 10)\n",
    "plt.plot(tL, rL)\n",
    "plt.xlabel(\"time\")\n",
    "plt.ylabel(\"r\")\n",
    "plt.title(\"time\"+' vs '+\"r\")\n",
    "plt.plot([p/30.32 for p in pL],[rL[p] for p in pL],'ro')\n",
    "plt.show()\n",
    "# plot(tL, rL, \"time\", \"R color\", yBegin=199, yEnd=204)\n"
   ]
  },
  {
   "cell_type": "code",
   "execution_count": 85,
   "metadata": {
    "collapsed": false
   },
   "outputs": [
    {
     "data": {
      "text/plain": [
       "[0.9233784578018539,\n",
       " 0.9233784578018539,\n",
       " 0.9233784578018539,\n",
       " 0.8904006557375019,\n",
       " 0.8904006557375019,\n",
       " 0.9233784578018539,\n",
       " 0.8244450516087981,\n",
       " 0.7584894474800943,\n",
       " 0.7584894474800943,\n",
       " 0.8244450516087981,\n",
       " 0.9563562598662059,\n",
       " 0.9563562598662059,\n",
       " 0.9563562598662059,\n",
       " 1.0223118639949096,\n",
       " 1.0223118639949096,\n",
       " 0.9893340619305577,\n",
       " 0.9893340619305577,\n",
       " 1.0223118639949096,\n",
       " 1.0223118639949096,\n",
       " 0.9563562598662059,\n",
       " 0.9563562598662059,\n",
       " 0.9893340619305577,\n",
       " 0.9893340619305577,\n",
       " 0.9563562598662059,\n",
       " 0.9563562598662059,\n",
       " 0.9563562598662059,\n",
       " 0.9893340619305577,\n",
       " 0.9563562598662059,\n",
       " 0.8904006557375019,\n",
       " 0.9563562598662059]"
      ]
     },
     "execution_count": 85,
     "metadata": {},
     "output_type": "execute_result"
    }
   ],
   "source": [
    "constructRRIntervalList(pL)"
   ]
  },
  {
   "cell_type": "code",
   "execution_count": null,
   "metadata": {
    "collapsed": true
   },
   "outputs": [],
   "source": []
  }
 ],
 "metadata": {
  "kernelspec": {
   "display_name": "Python 3",
   "language": "python",
   "name": "python3"
  },
  "language_info": {
   "codemirror_mode": {
    "name": "ipython",
    "version": 3
   },
   "file_extension": ".py",
   "mimetype": "text/x-python",
   "name": "python",
   "nbconvert_exporter": "python",
   "pygments_lexer": "ipython3",
   "version": "3.5.1"
  }
 },
 "nbformat": 4,
 "nbformat_minor": 0
}
