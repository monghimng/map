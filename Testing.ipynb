{
 "cells": [
  {
   "cell_type": "code",
   "execution_count": 25,
   "metadata": {
    "collapsed": false
   },
   "outputs": [
    {
     "data": {
      "text/plain": [
       "['index.html', 'styles/common.css', 'styles/ta.css', 'ta.html']"
      ]
     },
     "execution_count": 25,
     "metadata": {},
     "output_type": "execute_result"
    }
   ],
   "source": [
    "l = [9,5,3,1]\n",
    "begin = 0\n",
    "end = len(l)\n",
    "# comp = length/2 #if length%2==0 else (length-1)/2\n",
    "    \n",
    "def doubleCompareTo(v1, v2):\n",
    "    if v1 < v2:\n",
    "        return -1\n",
    "    elif v1 == v2:\n",
    "        return 0\n",
    "    else:\n",
    "        return 1\n",
    "    \n",
    "def binaryInsert(array, value, compareTo):\n",
    "    begin = 0\n",
    "    end = len(array)\n",
    "    while True:\n",
    "        length = end - begin\n",
    "        compareIndex = length//2 if length%2==0 else (length-1)//2\n",
    "        #found the space or the value are the same\n",
    "        if begin == end or compareTo(value, array[begin+compareIndex]) == 0:\n",
    "            array.insert(begin, value)\n",
    "            return\n",
    "        #less than\n",
    "        elif compareTo(value, array[begin+compareIndex]) < 0:\n",
    "            end = begin+compareIndex\n",
    "        #greater than\n",
    "        else:\n",
    "            begin = begin+compareIndex+1\n",
    "\n",
    "# def binarySort(array,compareTo):\n",
    "#     for curArrayLength in range(1, len(array)):\n",
    "#         begin = 0\n",
    "#         end = curArrayLength\n",
    "#         curValue = array[curArrayLength]\n",
    "#         while True:\n",
    "#             length = end - begin\n",
    "#             compareIndex = length//2 if length%2==0 else (length-1)//2\n",
    "#             #found the space or the value are the same\n",
    "#             if begin == end or compareTo(curValue, array[begin+compareIndex]) == 0:\n",
    "#                 array.insert(begin, curValue)\n",
    "#                 return\n",
    "#             #less than\n",
    "#             elif compareTo(curValue, array[begin+compareIndex]) < 0:\n",
    "#                 end = begin+compareIndex\n",
    "#             #greater than\n",
    "#             else:\n",
    "#                 begin = begin+compareIndex+1\n",
    "#             del array[curArrayLength]\n",
    "\n",
    "\n",
    "\n",
    "def binarySort(array, compareTo):\n",
    "    newArray = [array[0]]\n",
    "    for i in range(1, len(array)):\n",
    "        binaryInsert(newArray, array[i], compareTo)\n",
    "    return newArray\n",
    "\n",
    "def urlCompareTo(dir1, dir2):\n",
    "    if dir1 == dir2:\n",
    "        return 0\n",
    "    dir1 = dir1.split('/')\n",
    "    dir2 = dir2.split('/')\n",
    "    checkTimes = min(len(dir1), len(dir2))\n",
    "    for i in range(checkTimes):\n",
    "        if dir1[i] < dir2[i]:\n",
    "            return -1\n",
    "        elif dir1[i] > dir2[i]:\n",
    "            return 1\n",
    "    if len(dir1) == checkTimes:\n",
    "        return -1\n",
    "    else:\n",
    "        return 1\n",
    "array = ['styles/common.css', 'styles/ta.css', 'index.html', 'ta.html']\n",
    "binarySort(array, urlCompareTo)"
   ]
  },
  {
   "cell_type": "code",
   "execution_count": 26,
   "metadata": {
    "collapsed": false
   },
   "outputs": [
    {
     "data": {
      "text/plain": [
       "True"
      ]
     },
     "execution_count": 26,
     "metadata": {},
     "output_type": "execute_result"
    }
   ],
   "source": [
    "'http' in 'https://piazza.com/berkeley/spring2015/70'"
   ]
  },
  {
   "cell_type": "code",
   "execution_count": 30,
   "metadata": {
    "collapsed": false
   },
   "outputs": [
    {
     "data": {
      "text/plain": [
       "[]"
      ]
     },
     "execution_count": 30,
     "metadata": {},
     "output_type": "execute_result"
    }
   ],
   "source": [
    "'a'.split('1234')[0:-1]"
   ]
  },
  {
   "cell_type": "code",
   "execution_count": 31,
   "metadata": {
    "collapsed": false
   },
   "outputs": [
    {
     "name": "stdout",
     "output_type": "stream",
     "text": [
      "123\b456\n"
     ]
    }
   ],
   "source": [
    "print('123\\b456')"
   ]
  }
 ],
 "metadata": {
  "kernelspec": {
   "display_name": "Python 3",
   "language": "python",
   "name": "python3"
  },
  "language_info": {
   "codemirror_mode": {
    "name": "ipython",
    "version": 3
   },
   "file_extension": ".py",
   "mimetype": "text/x-python",
   "name": "python",
   "nbconvert_exporter": "python",
   "pygments_lexer": "ipython3",
   "version": "3.5.1"
  }
 },
 "nbformat": 4,
 "nbformat_minor": 0
}
