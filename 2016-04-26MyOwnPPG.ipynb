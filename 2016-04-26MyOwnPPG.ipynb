{
 "cells": [
  {
   "cell_type": "markdown",
   "metadata": {},
   "source": [
    "## Processing PPG Signal I Recorded on My Smartphone"
   ]
  },
  {
   "cell_type": "code",
   "execution_count": 1,
   "metadata": {
    "collapsed": false
   },
   "outputs": [],
   "source": [
    "import numpy\n",
    "import matplotlib.pyplot as plt\n",
    "import os\n",
    "fps = 30.323427803"
   ]
  },
  {
   "cell_type": "markdown",
   "metadata": {},
   "source": [
    "Here we refer to the time window as the frame. Each frame is 0.033 sec front and back (so 0.67 total)"
   ]
  },
  {
   "cell_type": "markdown",
   "metadata": {},
   "source": [
    "First we create a class called RRIT (RR interval). It contains one rr interval value and its corresponding time in a signal"
   ]
  },
  {
   "cell_type": "code",
   "execution_count": 2,
   "metadata": {
    "collapsed": true
   },
   "outputs": [],
   "source": [
    "class RRIT:\n",
    "    def __init__(self, time, value):\n",
    "        self.value = value\n",
    "        self.time = time\n",
    "    def __str__(self):\n",
    "        return '{0:<6.2f} {1:<4}'.format(self.time, self.value)"
   ]
  },
  {
   "cell_type": "markdown",
   "metadata": {},
   "source": [
    "Next, we define a class called RRSignal extending list that holds many RRITS. That is, it is a special list of RRIT. The object of this class is supposed to record all the information known about the signal.\n",
    "\n",
    "For alignment, there are 3 main functions: interpolate and align. \n",
    "\n",
    "\"Interpolate\" takes in a time, and returns the mapped RR value on this signal.\n",
    "\n",
    "\"Align\" takes in two signal, one from ecg and one from ppg, and interpolates each RRIT from the ppg onto the ecg. It returns a total alignment distance.\n",
    "\n",
    "\"AlignMultiple\" builds upon \"align\" and align a ppg's RRIT signal with multiple ecg, and return the one with minimal alignment distance, that is, the ecg signal the ppg mostly likely to be originated from."
   ]
  },
  {
   "cell_type": "code",
   "execution_count": 3,
   "metadata": {
    "collapsed": false
   },
   "outputs": [],
   "source": [
    "def withinRange(begin, endExclude, value):\n",
    "    return begin <= value and value < endExclude\n",
    "\n",
    "class RRSignal(list):\n",
    "    def __init__(self, rrValueList, name, color=None, threshold=None, percentError=None):\n",
    "        list.__init__(self)\n",
    "        self.constructRRITList(rrValueList)\n",
    "        self.name = name\n",
    "        self.color = color\n",
    "        self.threshold = threshold\n",
    "        self.percentError = percentError\n",
    "    def getRRITList(self):\n",
    "        return [RRIT.value for RRIT in self]\n",
    "    def getTimeList(self):\n",
    "        return [RRIT.time for RRIT in self]\n",
    "    def duration(self, beginIndex=-1, endIndex=-1):\n",
    "        beginT = self[beginIndex].time if withinRange(0, len(self), beginIndex) else self[0].time\n",
    "        endT = self[endIndex-1].time if withinRange(0, len(self), endIndex-1) else self[-1].time\n",
    "        return endT - beginT\n",
    "    #this function is only used internally\n",
    "    #create a corresponding RRIT list from the rr value list\n",
    "    #rr value in ms; time in second\n",
    "    def constructRRITList(self, rrValueList):\n",
    "        firstRRValue = round(rrValueList[0]*1000)\n",
    "        self.append(RRIT(0, firstRRValue))\n",
    "        pastTime = 0\n",
    "        for i in range(1, len(rrValueList)):\n",
    "            curTime = pastTime + rrValueList[i-1]\n",
    "            curRRValue = round(rrValueList[i]*1000)\n",
    "            curRRIT = RRIT(curTime, curRRValue)\n",
    "            self.append(curRRIT)\n",
    "            pastTime = curTime\n",
    "    def interpolate(self, targetTime, indexOffset=0):\n",
    "        targetTime = self[indexOffset].time + targetTime\n",
    "        #targetTime is not in range of array\n",
    "        if targetTime < self[0].time or self[-1].time < targetTime:\n",
    "            return -1\n",
    "        #if targetTime is in range, locate its position on this set\n",
    "        leftIndex = -1\n",
    "        for i in range(len(self)):\n",
    "            if targetTime < self[i].time:\n",
    "                leftIndex = i-1\n",
    "                break\n",
    "        leftRRIT = self[leftIndex]\n",
    "        rightRRIT = self[leftIndex+1]\n",
    "        slope = (rightRRIT.value - leftRRIT.value) / (rightRRIT.time - leftRRIT.time)\n",
    "        deltaTime = targetTime - leftRRIT.time\n",
    "        deltaValue = deltaTime * slope\n",
    "        return leftRRIT.value + deltaValue\n",
    "    def align(ppg, ecg):\n",
    "        minAlignmentDistance = 100000000\n",
    "        bestFitTime = None\n",
    "        for i in range(len(ecg)):\n",
    "            if ppg.duration() > ecg.duration(beginIndex=i):\n",
    "                break\n",
    "            alignmentDistance = 0\n",
    "            for ppgRRIT in ppg:\n",
    "                interpolatedValue = ecg.interpolate(ppgRRIT.time, indexOffset=i)\n",
    "                alignmentDistance += abs(interpolatedValue - ppgRRIT.value)\n",
    "            if alignmentDistance < minAlignmentDistance:\n",
    "                minAlignmentDistance = alignmentDistance\n",
    "                bestFitTime = ecg[i].time\n",
    "        return bestFitTime, minAlignmentDistance\n",
    "    def alignMultiple(ppg, *ecgSignalList):\n",
    "        minAlignmentDistance = 1000000\n",
    "        bestFitTime = None\n",
    "        bestFitEcg = None\n",
    "        for ecg in ecgSignalList:\n",
    "            alignmentTime, alignmentDistance = RRSignal.align(ppg, ecg)\n",
    "            if alignmentDistance < minAlignmentDistance:\n",
    "                minAlignmentDistance = alignmentDistance\n",
    "                bestFitTime = alignmentTime\n",
    "                bestFitEcg = ecg\n",
    "        return bestFitEcg, bestFitTime, minAlignmentDistance\n",
    "        \n",
    "        "
   ]
  },
  {
   "cell_type": "markdown",
   "metadata": {},
   "source": [
    "The following functions are used in translating the rgb values of txt files to a list of RRIT. It culminates in the function \"analyzeVideoAndObtainBestRedRRInterval.\""
   ]
  },
  {
   "cell_type": "code",
   "execution_count": 4,
   "metadata": {
    "collapsed": true
   },
   "outputs": [],
   "source": [
    "def readFromFile(fileName):\n",
    "    l =numpy.loadtxt(fileName)\n",
    "    return l[0], l[1], l[2]"
   ]
  },
  {
   "cell_type": "code",
   "execution_count": 5,
   "metadata": {
    "collapsed": true
   },
   "outputs": [],
   "source": [
    "def detectPeak(colorL, frameThreshold):\n",
    "    peakL = list()\n",
    "    colorlistLen = len(colorL)\n",
    "    for i in range(1, colorlistLen-1):\n",
    "        biggerThanPrevious = colorL[i] > colorL[i-1]\n",
    "        biggerThanAfter = colorL[i] > colorL[i+1]\n",
    "        #if it is a local maximum, then check if it is a RR peak by comparing its maxima interval to frameThreshold\n",
    "        if biggerThanPrevious and biggerThanAfter:\n",
    "            for k in range(2, frameThreshold+1):\n",
    "                if i-k >= 0:\n",
    "                    if not colorL[i] > colorL[i-k]:\n",
    "                        #this is not a rr peak\n",
    "                        break\n",
    "                if i+k < colorlistLen:\n",
    "                    if not colorL[i] > colorL[i+k]:\n",
    "                        #this is not a rr peak\n",
    "                        break\n",
    "            else:\n",
    "                #this IS a rr peak, store the array index\n",
    "                peakL.append(i)\n",
    "    return peakL"
   ]
  },
  {
   "cell_type": "code",
   "execution_count": 6,
   "metadata": {
    "collapsed": true
   },
   "outputs": [],
   "source": [
    "def constructRRIntervalList(peakL):\n",
    "    return [ (peakL[i]-peakL[i-1])/fps for i in range(1, len(peakL))]"
   ]
  },
  {
   "cell_type": "code",
   "execution_count": 7,
   "metadata": {
    "collapsed": true
   },
   "outputs": [],
   "source": [
    "def isTrueRRInterval(rrInterval):\n",
    "    if 0.54 <= rrInterval and rrInterval <= 1.2:\n",
    "        return True\n",
    "    else:\n",
    "        return False"
   ]
  },
  {
   "cell_type": "code",
   "execution_count": 8,
   "metadata": {
    "collapsed": true
   },
   "outputs": [],
   "source": [
    "def getPercentError(rrL):\n",
    "    errorNum = 0\n",
    "    for rrInterval in rrL:\n",
    "        if not isTrueRRInterval(rrInterval):\n",
    "            errorNum += 1\n",
    "    return 100.0*errorNum/len(rrL) if len(rrL) else 0\n"
   ]
  },
  {
   "cell_type": "code",
   "execution_count": 9,
   "metadata": {
    "collapsed": false
   },
   "outputs": [],
   "source": [
    "def analyzeVideoAndObtainBestRedRRInterval(fileName):\n",
    "    rErrorL = []\n",
    "    rL, gL, bL = readFromFile(fileName)\n",
    "    bestRRL = None\n",
    "    bestPercentErrorSoFar = 101\n",
    "    bestFrameThreshold = None\n",
    "    lowestPercentError = None\n",
    "    for frameThreshold in range(1, 26):\n",
    "        rRRL = constructRRIntervalList(detectPeak(rL, frameThreshold))\n",
    "        percentError = getPercentError(rRRL)\n",
    "        if percentError < bestPercentErrorSoFar:\n",
    "            bestPercentErrorSoFar = percentError\n",
    "            bestRRL = rRRL\n",
    "            bestFrameThreshold = frameThreshold*2\n",
    "            lowestPercentError = percentError\n",
    "    return bestRRL, lowestPercentError, bestFrameThreshold"
   ]
  },
  {
   "cell_type": "code",
   "execution_count": 10,
   "metadata": {
    "collapsed": false
   },
   "outputs": [],
   "source": [
    "def convertStrLToSecFloatL(array):\n",
    "    for i in range(len(array)):\n",
    "        array[i] = float(array[i])/1000.0\n",
    "    return array"
   ]
  },
  {
   "cell_type": "markdown",
   "metadata": {},
   "source": [
    "Here we have two ppg signal I recorded on my smartphone. I convert these two to RRSignal and graph them."
   ]
  },
  {
   "cell_type": "code",
   "execution_count": 11,
   "metadata": {
    "collapsed": false
   },
   "outputs": [
    {
     "data": {
      "image/png": "[encoded data removed]",
      "text/plain": [
       "<matplotlib.figure.Figure at 0x7f6a23d398d0>"
      ]
     },
     "metadata": {},
     "output_type": "display_data"
    }
   ],
   "source": [
    "%matplotlib inline\n",
    "vidName = \"/home/mong/Desktop/map/map/videos/ccc.3gp.txt\"\n",
    "ppgRRSignal, percentError, threshold = analyzeVideoAndObtainBestRedRRInterval(vidName)\n",
    "ppgRRSignal = RRSignal(ppgRRSignal, os.path.basename(vidName), color='red', percentError=percentError, threshold=threshold)\n",
    "plt.plot(ppgRRSignal.getTimeList(), ppgRRSignal.getRRITList())\n",
    "plt.xlabel('Time in Second')\n",
    "plt.ylabel('RR Interval in Milisecond')\n",
    "plt.title('Timve vs RR Interval')\n",
    "plt.ylim(0, 1200)\n",
    "plt.show()"
   ]
  },
  {
   "cell_type": "code",
   "execution_count": 12,
   "metadata": {
    "collapsed": false
   },
   "outputs": [
    {
     "data": {
      "image/png": "[encoded data removed]",
      "text/plain": [
       "<matplotlib.figure.Figure at 0x7f6a23d39908>"
      ]
     },
     "metadata": {},
     "output_type": "display_data"
    }
   ],
   "source": [
    "%matplotlib inline\n",
    "vidName = \"/home/mong/Desktop/map/map/videos/ddd.3gp.txt\"\n",
    "ppgRRSignal, percentError, threshold = analyzeVideoAndObtainBestRedRRInterval(vidName)\n",
    "ppgRRSignal = RRSignal(ppgRRSignal, os.path.basename(vidName), color='red', percentError=percentError, threshold=threshold)\n",
    "plt.plot(ppgRRSignal.getTimeList(), ppgRRSignal.getRRITList())\n",
    "plt.xlabel('Time in Second')\n",
    "plt.ylabel('RR Interval in Milisecond')\n",
    "plt.title('Timve vs RR Interval')\n",
    "plt.ylim(0, 1200)\n",
    "plt.show()"
   ]
  },
  {
   "cell_type": "code",
   "execution_count": null,
   "metadata": {
    "collapsed": true
   },
   "outputs": [],
   "source": []
  }
 ],
 "metadata": {
  "kernelspec": {
   "display_name": "Python 3",
   "language": "python",
   "name": "python3"
  },
  "language_info": {
   "codemirror_mode": {
    "name": "ipython",
    "version": 3
   },
   "file_extension": ".py",
   "mimetype": "text/x-python",
   "name": "python",
   "nbconvert_exporter": "python",
   "pygments_lexer": "ipython3",
   "version": "3.5.1"
  }
 },
 "nbformat": 4,
 "nbformat_minor": 0
}
