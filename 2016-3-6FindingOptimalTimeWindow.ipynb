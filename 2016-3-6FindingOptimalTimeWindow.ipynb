{
 "cells": [
  {
   "cell_type": "markdown",
   "metadata": {},
   "source": [
    "# Finding the Optimal Time Window for Detecting RR Interval"
   ]
  },
  {
   "cell_type": "code",
   "execution_count": 17,
   "metadata": {
    "collapsed": false
   },
   "outputs": [],
   "source": [
    "import numpy\n",
    "import matplotlib.pyplot as plt\n",
    "# %matplotlib inline\n",
    "fps = 30.323427803"
   ]
  },
  {
   "cell_type": "markdown",
   "metadata": {},
   "source": [
    "This function obtains a list of color component from txt file.\n"
   ]
  },
  {
   "cell_type": "code",
   "execution_count": 18,
   "metadata": {
    "collapsed": true
   },
   "outputs": [],
   "source": [
    "def readFromFile(fileName):\n",
    "    l =numpy.loadtxt(fileName)\n",
    "    return l[0], l[1], l[2]"
   ]
  },
  {
   "cell_type": "markdown",
   "metadata": {},
   "source": [
    "This function runs through the color list, returns the peak that are local maxima for an interval of 2 times the frameThreshold. It returns the list of peaks. For exmple, if frameThreshold is 10, it returns only the maxima that are greater than the values of 10 frames before and those of 10 frames after."
   ]
  },
  {
   "cell_type": "code",
   "execution_count": 19,
   "metadata": {
    "collapsed": true
   },
   "outputs": [],
   "source": [
    "def detectPeak(colorL, frameThreshold):\n",
    "    peakL = list()\n",
    "    colorlistLen = len(colorL)\n",
    "    for i in range(1, colorlistLen-1):\n",
    "        biggerThanPrevious = colorL[i] > colorL[i-1]\n",
    "        biggerThanAfter = colorL[i] > colorL[i+1]\n",
    "        #if it is a local maximum, then check if it is a RR peak by comparing its maxima interval to frameThreshold\n",
    "        if biggerThanPrevious and biggerThanAfter:\n",
    "            for k in range(2, frameThreshold+1):\n",
    "                if i-k >= 0:\n",
    "                    if not colorL[i] > colorL[i-k]:\n",
    "                        #this is not a rr peak\n",
    "                        break\n",
    "                if i+k < colorlistLen:\n",
    "                    if not colorL[i] > colorL[i+k]:\n",
    "                        #this is not a rr peak\n",
    "                        break\n",
    "            else:\n",
    "                #this IS a rr peak, store the array index\n",
    "                peakL.append(i)\n",
    "    return peakL"
   ]
  },
  {
   "cell_type": "markdown",
   "metadata": {},
   "source": [
    "This function constructs rr Interval list from the peak list generated from detectPeak function"
   ]
  },
  {
   "cell_type": "code",
   "execution_count": 20,
   "metadata": {
    "collapsed": true
   },
   "outputs": [],
   "source": [
    "def constructRRIntervalList(peakL):\n",
    "    return [ (peakL[i]-peakL[i-1])/fps for i in range(1, len(peakL))]"
   ]
  },
  {
   "cell_type": "code",
   "execution_count": 21,
   "metadata": {
    "collapsed": true
   },
   "outputs": [],
   "source": [
    "def constructTimeListFromRRList(rrL):\n",
    "    tL = list()\n",
    "    tL.append(rrL[0])\n",
    "    for i in range(1, len(rrL)):\n",
    "        tL.append(tL[i-1]+rrL[i])\n",
    "    return tL"
   ]
  },
  {
   "cell_type": "markdown",
   "metadata": {},
   "source": [
    "This function graph the data."
   ]
  },
  {
   "cell_type": "code",
   "execution_count": 22,
   "metadata": {
    "collapsed": true
   },
   "outputs": [],
   "source": [
    "def plot(inVarList, deVarList, inVarName, deVarName, yBegin=0, yEnd=1.5):\n",
    "    plt.plot(inVarList, deVarList)\n",
    "    plt.xlabel(inVarName)\n",
    "    plt.ylabel(deVarName)\n",
    "    plt.title(inVarName+' vs '+deVarName)\n",
    "    plt.ylim(yBegin, yEnd)\n",
    "    plt.show()"
   ]
  },
  {
   "cell_type": "markdown",
   "metadata": {},
   "source": [
    "This function defines the criteria for being a true RR interval."
   ]
  },
  {
   "cell_type": "code",
   "execution_count": 23,
   "metadata": {
    "collapsed": true
   },
   "outputs": [],
   "source": [
    "def isTrueRRInterval(rrInterval):\n",
    "    if 0.8 <= rrInterval and rrInterval <= 1.2:\n",
    "        return True\n",
    "    else:\n",
    "        return False"
   ]
  },
  {
   "cell_type": "markdown",
   "metadata": {},
   "source": [
    "This function detect the amount of errors in a list of RR interval, as judged by function isTrueRRInterval"
   ]
  },
  {
   "cell_type": "code",
   "execution_count": 24,
   "metadata": {
    "collapsed": false
   },
   "outputs": [],
   "source": [
    "def getAmountOfError(rrL):\n",
    "    errorNum = 0\n",
    "    for rrInterval in rrL:\n",
    "        if (not isTrueRRInterval(rrInterval)):\n",
    "            errorNum += 1\n",
    "    return errorNum"
   ]
  },
  {
   "cell_type": "markdown",
   "metadata": {},
   "source": [
    "This function analyze the rgb txt file of a PPG video and return important information."
   ]
  },
  {
   "cell_type": "code",
   "execution_count": 25,
   "metadata": {
    "collapsed": true
   },
   "outputs": [],
   "source": [
    "def analyzeVideoRGB(fileName):\n",
    "    print(\"Analyzing \"+fileName)\n",
    "    rL, gL, bL = readFromFile(fileName)\n",
    "    for frameThreshold in range(1, 30):\n",
    "        rRRL = constructRRIntervalList(detectPeak(rL, frameThreshold))\n",
    "        gRRL = constructRRIntervalList(detectPeak(gL, frameThreshold))\n",
    "        bRRL = constructRRIntervalList(detectPeak(bL, frameThreshold))\n",
    "        rError = getAmountOfError(rRRL)\n",
    "        gError = getAmountOfError(gRRL)\n",
    "        bError = getAmountOfError(bRRL)\n",
    "        print(\"For Frame Threshold of {:2d}: Red has {:2d} errors | Green has {:2d} errors | Blue has {:2d} errors\"\n",
    "              .format(frameThreshold*2, rError, gError, bError))"
   ]
  },
  {
   "cell_type": "code",
   "execution_count": 26,
   "metadata": {
    "collapsed": true
   },
   "outputs": [],
   "source": [
    "videoList = [\"/home/mong/Desktop/map/map/videos/VID_20150123_172926_F.mp4.txt\",\n",
    "    \"/home/mong/Desktop/map/map/videos/VID_20150123_173259_Q.mp4.txt\",\n",
    "    \"/home/mong/Desktop/map/map/videos/VID_20150123_173329_F.mp4.txt\",\n",
    "    \"/home/mong/Desktop/map/map/videos/VID_20150123_173358_Q.mp4.txt\",\n",
    "    \"/home/mong/Desktop/map/map/videos/VID_20150123_173427_F.mp4.txt\",\n",
    "    \"/home/mong/Desktop/map/map/videos/VID_20150123_173457_Q.mp4.txt\",\n",
    "    \"/home/mong/Desktop/map/map/videos/VID_20150123_173556_Q.mp4.txt\",\n",
    "    \"/home/mong/Desktop/map/map/videos/VID_20150123_173629_F.mp4.txt\",\n",
    "    \"/home/mong/Desktop/map/map/videos/VID_20150123_173700_Q.mp4.txt\",\n",
    "    \"/home/mong/Desktop/map/map/videos/VID_20150123_173757_Q.mp4.txt\",\n",
    "    \"/home/mong/Desktop/map/map/videos/VID_20150123_173028_F.mp4.txt\",\n",
    "    \"/home/mong/Desktop/map/map/videos/VID_20150123_172857_Q.mp4.txt\"]"
   ]
  },
  {
   "cell_type": "code",
   "execution_count": 27,
   "metadata": {
    "collapsed": false
   },
   "outputs": [
    {
     "name": "stdout",
     "output_type": "stream",
     "text": [
      "Analyzing /home/mong/Desktop/map/map/videos/VID_20150123_172926_F.mp4.txt\n",
      "For Frame Threshold of  2: Red has 70 errors | Green has 46 errors | Blue has 67 errors\n",
      "For Frame Threshold of  4: Red has 55 errors | Green has 45 errors | Blue has 53 errors\n",
      "For Frame Threshold of  6: Red has 44 errors | Green has 42 errors | Blue has 49 errors\n",
      "For Frame Threshold of  8: Red has 43 errors | Green has 42 errors | Blue has 44 errors\n",
      "For Frame Threshold of 10: Red has 41 errors | Green has 41 errors | Blue has 42 errors\n",
      "For Frame Threshold of 12: Red has 41 errors | Green has 41 errors | Blue has 42 errors\n",
      "For Frame Threshold of 14: Red has 39 errors | Green has 41 errors | Blue has 42 errors\n",
      "For Frame Threshold of 16: Red has 39 errors | Green has 41 errors | Blue has 42 errors\n",
      "For Frame Threshold of 18: Red has 39 errors | Green has 41 errors | Blue has 42 errors\n",
      "For Frame Threshold of 20: Red has 39 errors | Green has 41 errors | Blue has 40 errors\n",
      "For Frame Threshold of 22: Red has 39 errors | Green has 41 errors | Blue has 39 errors\n",
      "For Frame Threshold of 24: Red has 39 errors | Green has 41 errors | Blue has 39 errors\n",
      "For Frame Threshold of 26: Red has 38 errors | Green has 41 errors | Blue has 39 errors\n",
      "For Frame Threshold of 28: Red has 38 errors | Green has 39 errors | Blue has 39 errors\n",
      "For Frame Threshold of 30: Red has 37 errors | Green has 39 errors | Blue has 37 errors\n",
      "For Frame Threshold of 32: Red has 36 errors | Green has 39 errors | Blue has 34 errors\n",
      "For Frame Threshold of 34: Red has 31 errors | Green has 30 errors | Blue has 32 errors\n",
      "For Frame Threshold of 36: Red has 25 errors | Green has 23 errors | Blue has 26 errors\n",
      "For Frame Threshold of 38: Red has 17 errors | Green has 13 errors | Blue has 19 errors\n",
      "For Frame Threshold of 40: Red has 12 errors | Green has  9 errors | Blue has 12 errors\n",
      "For Frame Threshold of 42: Red has  8 errors | Green has  7 errors | Blue has  9 errors\n",
      "For Frame Threshold of 44: Red has  6 errors | Green has  3 errors | Blue has  8 errors\n",
      "For Frame Threshold of 46: Red has  6 errors | Green has  3 errors | Blue has  8 errors\n",
      "For Frame Threshold of 48: Red has  6 errors | Green has  3 errors | Blue has  8 errors\n",
      "For Frame Threshold of 50: Red has  6 errors | Green has  3 errors | Blue has  8 errors\n",
      "For Frame Threshold of 52: Red has  6 errors | Green has  3 errors | Blue has  8 errors\n",
      "For Frame Threshold of 54: Red has  6 errors | Green has  3 errors | Blue has  7 errors\n",
      "For Frame Threshold of 56: Red has  6 errors | Green has  3 errors | Blue has  7 errors\n",
      "For Frame Threshold of 58: Red has  6 errors | Green has  3 errors | Blue has  7 errors\n",
      "\n",
      "\n",
      "Analyzing /home/mong/Desktop/map/map/videos/VID_20150123_173259_Q.mp4.txt\n",
      "For Frame Threshold of  2: Red has 54 errors | Green has 53 errors | Blue has 165 errors\n",
      "For Frame Threshold of  4: Red has 46 errors | Green has 44 errors | Blue has 89 errors\n",
      "For Frame Threshold of  6: Red has 38 errors | Green has 34 errors | Blue has 68 errors\n",
      "For Frame Threshold of  8: Red has 21 errors | Green has 21 errors | Blue has 44 errors\n",
      "For Frame Threshold of 10: Red has  8 errors | Green has  6 errors | Blue has 31 errors\n",
      "For Frame Threshold of 12: Red has  2 errors | Green has  2 errors | Blue has 26 errors\n",
      "For Frame Threshold of 14: Red has  2 errors | Green has  2 errors | Blue has 22 errors\n",
      "For Frame Threshold of 16: Red has  2 errors | Green has  2 errors | Blue has 18 errors\n",
      "For Frame Threshold of 18: Red has  2 errors | Green has  2 errors | Blue has 16 errors\n",
      "For Frame Threshold of 20: Red has  2 errors | Green has  2 errors | Blue has 16 errors\n",
      "For Frame Threshold of 22: Red has  2 errors | Green has  2 errors | Blue has 13 errors\n",
      "For Frame Threshold of 24: Red has  2 errors | Green has  2 errors | Blue has  9 errors\n",
      "For Frame Threshold of 26: Red has  2 errors | Green has  2 errors | Blue has  7 errors\n",
      "For Frame Threshold of 28: Red has  2 errors | Green has  2 errors | Blue has  6 errors\n",
      "For Frame Threshold of 30: Red has  2 errors | Green has  2 errors | Blue has  4 errors\n",
      "For Frame Threshold of 32: Red has  2 errors | Green has  2 errors | Blue has  4 errors\n",
      "For Frame Threshold of 34: Red has  2 errors | Green has  2 errors | Blue has  4 errors\n",
      "For Frame Threshold of 36: Red has  2 errors | Green has  2 errors | Blue has  4 errors\n",
      "For Frame Threshold of 38: Red has  2 errors | Green has  2 errors | Blue has  3 errors\n",
      "For Frame Threshold of 40: Red has  2 errors | Green has  2 errors | Blue has  3 errors\n",
      "For Frame Threshold of 42: Red has  2 errors | Green has  2 errors | Blue has  3 errors\n",
      "For Frame Threshold of 44: Red has  2 errors | Green has  2 errors | Blue has  3 errors\n",
      "For Frame Threshold of 46: Red has  2 errors | Green has  2 errors | Blue has  3 errors\n",
      "For Frame Threshold of 48: Red has  2 errors | Green has  2 errors | Blue has  4 errors\n",
      "For Frame Threshold of 50: Red has  3 errors | Green has  3 errors | Blue has  4 errors\n",
      "For Frame Threshold of 52: Red has  5 errors | Green has  5 errors | Blue has  5 errors\n",
      "For Frame Threshold of 54: Red has  4 errors | Green has  5 errors | Blue has  5 errors\n",
      "For Frame Threshold of 56: Red has  6 errors | Green has  8 errors | Blue has  5 errors\n",
      "For Frame Threshold of 58: Red has  6 errors | Green has  9 errors | Blue has  7 errors\n",
      "\n",
      "\n",
      "Analyzing /home/mong/Desktop/map/map/videos/VID_20150123_173329_F.mp4.txt\n",
      "For Frame Threshold of  2: Red has 105 errors | Green has 28 errors | Blue has 220 errors\n",
      "For Frame Threshold of  4: Red has 46 errors | Green has 18 errors | Blue has 130 errors\n",
      "For Frame Threshold of  6: Red has 34 errors | Green has 11 errors | Blue has 82 errors\n",
      "For Frame Threshold of  8: Red has 21 errors | Green has 10 errors | Blue has 51 errors\n",
      "For Frame Threshold of 10: Red has 19 errors | Green has  9 errors | Blue has 39 errors\n",
      "For Frame Threshold of 12: Red has 14 errors | Green has  6 errors | Blue has 27 errors\n",
      "For Frame Threshold of 14: Red has 15 errors | Green has  6 errors | Blue has 20 errors\n",
      "For Frame Threshold of 16: Red has 14 errors | Green has  3 errors | Blue has 16 errors\n",
      "For Frame Threshold of 18: Red has 12 errors | Green has  3 errors | Blue has 11 errors\n",
      "For Frame Threshold of 20: Red has 10 errors | Green has  3 errors | Blue has 10 errors\n",
      "For Frame Threshold of 22: Red has 10 errors | Green has  3 errors | Blue has  9 errors\n",
      "For Frame Threshold of 24: Red has 10 errors | Green has  2 errors | Blue has  8 errors\n",
      "For Frame Threshold of 26: Red has  9 errors | Green has  2 errors | Blue has  5 errors\n",
      "For Frame Threshold of 28: Red has  8 errors | Green has  2 errors | Blue has  2 errors\n",
      "For Frame Threshold of 30: Red has  8 errors | Green has  1 errors | Blue has  1 errors\n",
      "For Frame Threshold of 32: Red has  8 errors | Green has  1 errors | Blue has  1 errors\n",
      "For Frame Threshold of 34: Red has  8 errors | Green has  1 errors | Blue has  1 errors\n",
      "For Frame Threshold of 36: Red has  8 errors | Green has  0 errors | Blue has  1 errors\n",
      "For Frame Threshold of 38: Red has  8 errors | Green has  0 errors | Blue has  2 errors\n",
      "For Frame Threshold of 40: Red has  8 errors | Green has  0 errors | Blue has  2 errors\n",
      "For Frame Threshold of 42: Red has  8 errors | Green has  0 errors | Blue has  2 errors\n",
      "For Frame Threshold of 44: Red has  8 errors | Green has  0 errors | Blue has  2 errors\n",
      "For Frame Threshold of 46: Red has  8 errors | Green has  0 errors | Blue has  2 errors\n",
      "For Frame Threshold of 48: Red has  8 errors | Green has  0 errors | Blue has  2 errors\n",
      "For Frame Threshold of 50: Red has  8 errors | Green has  0 errors | Blue has  2 errors\n",
      "For Frame Threshold of 52: Red has  8 errors | Green has  0 errors | Blue has  2 errors\n",
      "For Frame Threshold of 54: Red has  8 errors | Green has  0 errors | Blue has  1 errors\n",
      "For Frame Threshold of 56: Red has  7 errors | Green has  0 errors | Blue has  2 errors\n",
      "For Frame Threshold of 58: Red has  7 errors | Green has  0 errors | Blue has  1 errors\n",
      "\n",
      "\n",
      "Analyzing /home/mong/Desktop/map/map/videos/VID_20150123_173358_Q.mp4.txt\n",
      "For Frame Threshold of  2: Red has 56 errors | Green has 58 errors | Blue has 123 errors\n",
      "For Frame Threshold of  4: Red has 47 errors | Green has 48 errors | Blue has 92 errors\n",
      "For Frame Threshold of  6: Red has 35 errors | Green has 36 errors | Blue has 69 errors\n",
      "For Frame Threshold of  8: Red has 15 errors | Green has 14 errors | Blue has 56 errors\n",
      "For Frame Threshold of 10: Red has  8 errors | Green has  5 errors | Blue has 31 errors\n",
      "For Frame Threshold of 12: Red has  2 errors | Green has  1 errors | Blue has 15 errors\n",
      "For Frame Threshold of 14: Red has  0 errors | Green has  1 errors | Blue has  7 errors\n",
      "For Frame Threshold of 16: Red has  1 errors | Green has  1 errors | Blue has  5 errors\n",
      "For Frame Threshold of 18: Red has  1 errors | Green has  1 errors | Blue has  2 errors\n",
      "For Frame Threshold of 20: Red has  1 errors | Green has  2 errors | Blue has  2 errors\n",
      "For Frame Threshold of 22: Red has  1 errors | Green has  2 errors | Blue has  2 errors\n",
      "For Frame Threshold of 24: Red has  1 errors | Green has  2 errors | Blue has  2 errors\n",
      "For Frame Threshold of 26: Red has  1 errors | Green has  2 errors | Blue has  1 errors\n",
      "For Frame Threshold of 28: Red has  1 errors | Green has  2 errors | Blue has  1 errors\n",
      "For Frame Threshold of 30: Red has  1 errors | Green has  2 errors | Blue has  1 errors\n",
      "For Frame Threshold of 32: Red has  1 errors | Green has  2 errors | Blue has  1 errors\n",
      "For Frame Threshold of 34: Red has  1 errors | Green has  2 errors | Blue has  1 errors\n",
      "For Frame Threshold of 36: Red has  1 errors | Green has  2 errors | Blue has  1 errors\n",
      "For Frame Threshold of 38: Red has  1 errors | Green has  2 errors | Blue has  1 errors\n",
      "For Frame Threshold of 40: Red has  1 errors | Green has  2 errors | Blue has  1 errors\n",
      "For Frame Threshold of 42: Red has  1 errors | Green has  2 errors | Blue has  1 errors\n",
      "For Frame Threshold of 44: Red has  1 errors | Green has  2 errors | Blue has  1 errors\n",
      "For Frame Threshold of 46: Red has  1 errors | Green has  2 errors | Blue has  1 errors\n",
      "For Frame Threshold of 48: Red has  1 errors | Green has  2 errors | Blue has  1 errors\n",
      "For Frame Threshold of 50: Red has  1 errors | Green has  2 errors | Blue has  2 errors\n",
      "For Frame Threshold of 52: Red has  1 errors | Green has  2 errors | Blue has  4 errors\n",
      "For Frame Threshold of 54: Red has  5 errors | Green has  5 errors | Blue has  5 errors\n",
      "For Frame Threshold of 56: Red has  9 errors | Green has 11 errors | Blue has  9 errors\n",
      "For Frame Threshold of 58: Red has  9 errors | Green has 10 errors | Blue has  7 errors\n",
      "\n",
      "\n",
      "Analyzing /home/mong/Desktop/map/map/videos/VID_20150123_173427_F.mp4.txt\n",
      "For Frame Threshold of  2: Red has 41 errors | Green has 45 errors | Blue has 130 errors\n",
      "For Frame Threshold of  4: Red has 21 errors | Green has 30 errors | Blue has 73 errors\n",
      "For Frame Threshold of  6: Red has 15 errors | Green has 25 errors | Blue has 52 errors\n",
      "For Frame Threshold of  8: Red has  5 errors | Green has 17 errors | Blue has 27 errors\n",
      "For Frame Threshold of 10: Red has  5 errors | Green has  9 errors | Blue has 19 errors\n",
      "For Frame Threshold of 12: Red has  4 errors | Green has  9 errors | Blue has 19 errors\n",
      "For Frame Threshold of 14: Red has  4 errors | Green has  5 errors | Blue has 11 errors\n",
      "For Frame Threshold of 16: Red has  4 errors | Green has  5 errors | Blue has  7 errors\n",
      "For Frame Threshold of 18: Red has  4 errors | Green has  5 errors | Blue has  4 errors\n",
      "For Frame Threshold of 20: Red has  2 errors | Green has  5 errors | Blue has  3 errors\n",
      "For Frame Threshold of 22: Red has  2 errors | Green has  3 errors | Blue has  3 errors\n",
      "For Frame Threshold of 24: Red has  2 errors | Green has  3 errors | Blue has  3 errors\n",
      "For Frame Threshold of 26: Red has  2 errors | Green has  3 errors | Blue has  3 errors\n",
      "For Frame Threshold of 28: Red has  2 errors | Green has  3 errors | Blue has  3 errors\n",
      "For Frame Threshold of 30: Red has  2 errors | Green has  3 errors | Blue has  3 errors\n",
      "For Frame Threshold of 32: Red has  2 errors | Green has  3 errors | Blue has  2 errors\n",
      "For Frame Threshold of 34: Red has  2 errors | Green has  3 errors | Blue has  2 errors\n",
      "For Frame Threshold of 36: Red has  2 errors | Green has  3 errors | Blue has  2 errors\n",
      "For Frame Threshold of 38: Red has  1 errors | Green has  2 errors | Blue has  2 errors\n",
      "For Frame Threshold of 40: Red has  1 errors | Green has  2 errors | Blue has  2 errors\n",
      "For Frame Threshold of 42: Red has  1 errors | Green has  3 errors | Blue has  3 errors\n",
      "For Frame Threshold of 44: Red has  2 errors | Green has  3 errors | Blue has  4 errors\n",
      "For Frame Threshold of 46: Red has  3 errors | Green has  5 errors | Blue has  4 errors\n",
      "For Frame Threshold of 48: Red has  4 errors | Green has  5 errors | Blue has  4 errors\n",
      "For Frame Threshold of 50: Red has  4 errors | Green has  6 errors | Blue has  6 errors\n",
      "For Frame Threshold of 52: Red has  7 errors | Green has  7 errors | Blue has  7 errors\n",
      "For Frame Threshold of 54: Red has  8 errors | Green has  7 errors | Blue has  8 errors\n",
      "For Frame Threshold of 56: Red has  7 errors | Green has  8 errors | Blue has  8 errors\n",
      "For Frame Threshold of 58: Red has  6 errors | Green has  8 errors | Blue has  8 errors\n",
      "\n",
      "\n",
      "Analyzing /home/mong/Desktop/map/map/videos/VID_20150123_173457_Q.mp4.txt\n",
      "For Frame Threshold of  2: Red has 55 errors | Green has 53 errors | Blue has 158 errors\n",
      "For Frame Threshold of  4: Red has 40 errors | Green has 40 errors | Blue has 108 errors\n",
      "For Frame Threshold of  6: Red has 24 errors | Green has 20 errors | Blue has 84 errors\n",
      "For Frame Threshold of  8: Red has 14 errors | Green has 10 errors | Blue has 65 errors\n",
      "For Frame Threshold of 10: Red has  0 errors | Green has  0 errors | Blue has 42 errors\n",
      "For Frame Threshold of 12: Red has  0 errors | Green has  0 errors | Blue has 23 errors\n",
      "For Frame Threshold of 14: Red has  0 errors | Green has  0 errors | Blue has 12 errors\n",
      "For Frame Threshold of 16: Red has  0 errors | Green has  0 errors | Blue has  8 errors\n",
      "For Frame Threshold of 18: Red has  1 errors | Green has  0 errors | Blue has  4 errors\n",
      "For Frame Threshold of 20: Red has  1 errors | Green has  0 errors | Blue has  3 errors\n",
      "For Frame Threshold of 22: Red has  1 errors | Green has  0 errors | Blue has  3 errors\n",
      "For Frame Threshold of 24: Red has  1 errors | Green has  0 errors | Blue has  3 errors\n",
      "For Frame Threshold of 26: Red has  1 errors | Green has  0 errors | Blue has  2 errors\n",
      "For Frame Threshold of 28: Red has  1 errors | Green has  0 errors | Blue has  1 errors\n",
      "For Frame Threshold of 30: Red has  1 errors | Green has  0 errors | Blue has  1 errors\n",
      "For Frame Threshold of 32: Red has  1 errors | Green has  0 errors | Blue has  1 errors\n",
      "For Frame Threshold of 34: Red has  1 errors | Green has  1 errors | Blue has  1 errors\n",
      "For Frame Threshold of 36: Red has  1 errors | Green has  1 errors | Blue has  1 errors\n",
      "For Frame Threshold of 38: Red has  1 errors | Green has  1 errors | Blue has  1 errors\n",
      "For Frame Threshold of 40: Red has  1 errors | Green has  1 errors | Blue has  1 errors\n",
      "For Frame Threshold of 42: Red has  1 errors | Green has  1 errors | Blue has  1 errors\n",
      "For Frame Threshold of 44: Red has  1 errors | Green has  1 errors | Blue has  1 errors\n",
      "For Frame Threshold of 46: Red has  1 errors | Green has  1 errors | Blue has  1 errors\n",
      "For Frame Threshold of 48: Red has  1 errors | Green has  1 errors | Blue has  1 errors\n",
      "For Frame Threshold of 50: Red has  1 errors | Green has  1 errors | Blue has  1 errors\n",
      "For Frame Threshold of 52: Red has  1 errors | Green has  1 errors | Blue has  3 errors\n",
      "For Frame Threshold of 54: Red has  3 errors | Green has  3 errors | Blue has  4 errors\n",
      "For Frame Threshold of 56: Red has  7 errors | Green has  7 errors | Blue has  8 errors\n",
      "For Frame Threshold of 58: Red has 10 errors | Green has  9 errors | Blue has 10 errors\n",
      "\n",
      "\n",
      "Analyzing /home/mong/Desktop/map/map/videos/VID_20150123_173556_Q.mp4.txt\n",
      "For Frame Threshold of  2: Red has 40 errors | Green has 42 errors | Blue has 131 errors\n",
      "For Frame Threshold of  4: Red has 27 errors | Green has 27 errors | Blue has 100 errors\n",
      "For Frame Threshold of  6: Red has 20 errors | Green has 20 errors | Blue has 79 errors\n",
      "For Frame Threshold of  8: Red has 10 errors | Green has 10 errors | Blue has 56 errors\n",
      "For Frame Threshold of 10: Red has  4 errors | Green has  0 errors | Blue has 35 errors\n",
      "For Frame Threshold of 12: Red has  0 errors | Green has  0 errors | Blue has 14 errors\n",
      "For Frame Threshold of 14: Red has  0 errors | Green has  0 errors | Blue has  4 errors\n",
      "For Frame Threshold of 16: Red has  0 errors | Green has  0 errors | Blue has  4 errors\n",
      "For Frame Threshold of 18: Red has  1 errors | Green has  0 errors | Blue has  2 errors\n",
      "For Frame Threshold of 20: Red has  1 errors | Green has  0 errors | Blue has  2 errors\n",
      "For Frame Threshold of 22: Red has  1 errors | Green has  0 errors | Blue has  2 errors\n",
      "For Frame Threshold of 24: Red has  1 errors | Green has  0 errors | Blue has  2 errors\n",
      "For Frame Threshold of 26: Red has  1 errors | Green has  0 errors | Blue has  2 errors\n",
      "For Frame Threshold of 28: Red has  1 errors | Green has  1 errors | Blue has  2 errors\n",
      "For Frame Threshold of 30: Red has  1 errors | Green has  1 errors | Blue has  2 errors\n",
      "For Frame Threshold of 32: Red has  1 errors | Green has  1 errors | Blue has  2 errors\n",
      "For Frame Threshold of 34: Red has  1 errors | Green has  1 errors | Blue has  2 errors\n",
      "For Frame Threshold of 36: Red has  1 errors | Green has  1 errors | Blue has  2 errors\n",
      "For Frame Threshold of 38: Red has  1 errors | Green has  1 errors | Blue has  2 errors\n",
      "For Frame Threshold of 40: Red has  1 errors | Green has  1 errors | Blue has  2 errors\n",
      "For Frame Threshold of 42: Red has  1 errors | Green has  1 errors | Blue has  2 errors\n",
      "For Frame Threshold of 44: Red has  1 errors | Green has  1 errors | Blue has  2 errors\n",
      "For Frame Threshold of 46: Red has  1 errors | Green has  1 errors | Blue has  2 errors\n",
      "For Frame Threshold of 48: Red has  1 errors | Green has  2 errors | Blue has  3 errors\n",
      "For Frame Threshold of 50: Red has  4 errors | Green has  4 errors | Blue has  4 errors\n",
      "For Frame Threshold of 52: Red has  5 errors | Green has  5 errors | Blue has  7 errors\n",
      "For Frame Threshold of 54: Red has  7 errors | Green has  7 errors | Blue has  7 errors\n",
      "For Frame Threshold of 56: Red has  7 errors | Green has  7 errors | Blue has  9 errors\n",
      "For Frame Threshold of 58: Red has  7 errors | Green has  7 errors | Blue has  8 errors\n",
      "\n",
      "\n",
      "Analyzing /home/mong/Desktop/map/map/videos/VID_20150123_173629_F.mp4.txt\n",
      "For Frame Threshold of  2: Red has 191 errors | Green has 229 errors | Blue has 237 errors\n",
      "For Frame Threshold of  4: Red has 99 errors | Green has 135 errors | Blue has 140 errors\n",
      "For Frame Threshold of  6: Red has 63 errors | Green has 99 errors | Blue has 100 errors\n",
      "For Frame Threshold of  8: Red has 48 errors | Green has 82 errors | Blue has 72 errors\n",
      "For Frame Threshold of 10: Red has 37 errors | Green has 69 errors | Blue has 53 errors\n",
      "For Frame Threshold of 12: Red has 29 errors | Green has 55 errors | Blue has 45 errors\n",
      "For Frame Threshold of 14: Red has 24 errors | Green has 45 errors | Blue has 38 errors\n",
      "For Frame Threshold of 16: Red has 20 errors | Green has 36 errors | Blue has 29 errors\n",
      "For Frame Threshold of 18: Red has 20 errors | Green has 27 errors | Blue has 23 errors\n",
      "For Frame Threshold of 20: Red has 16 errors | Green has 18 errors | Blue has 16 errors\n",
      "For Frame Threshold of 22: Red has 14 errors | Green has 14 errors | Blue has 11 errors\n",
      "For Frame Threshold of 24: Red has 14 errors | Green has 11 errors | Blue has  7 errors\n",
      "For Frame Threshold of 26: Red has 11 errors | Green has  9 errors | Blue has  4 errors\n",
      "For Frame Threshold of 28: Red has 10 errors | Green has  3 errors | Blue has  4 errors\n",
      "For Frame Threshold of 30: Red has 10 errors | Green has  1 errors | Blue has  5 errors\n",
      "For Frame Threshold of 32: Red has  9 errors | Green has  1 errors | Blue has  5 errors\n",
      "For Frame Threshold of 34: Red has  4 errors | Green has  1 errors | Blue has  5 errors\n",
      "For Frame Threshold of 36: Red has  4 errors | Green has  1 errors | Blue has  4 errors\n",
      "For Frame Threshold of 38: Red has  3 errors | Green has  1 errors | Blue has  4 errors\n",
      "For Frame Threshold of 40: Red has  3 errors | Green has  1 errors | Blue has  5 errors\n",
      "For Frame Threshold of 42: Red has  3 errors | Green has  1 errors | Blue has  4 errors\n",
      "For Frame Threshold of 44: Red has  3 errors | Green has  1 errors | Blue has  4 errors\n",
      "For Frame Threshold of 46: Red has  3 errors | Green has  1 errors | Blue has  4 errors\n",
      "For Frame Threshold of 48: Red has  3 errors | Green has  1 errors | Blue has  4 errors\n",
      "For Frame Threshold of 50: Red has  3 errors | Green has  1 errors | Blue has  4 errors\n",
      "For Frame Threshold of 52: Red has  3 errors | Green has  1 errors | Blue has  4 errors\n",
      "For Frame Threshold of 54: Red has  3 errors | Green has  1 errors | Blue has  4 errors\n",
      "For Frame Threshold of 56: Red has  3 errors | Green has  1 errors | Blue has  4 errors\n",
      "For Frame Threshold of 58: Red has  3 errors | Green has  1 errors | Blue has  3 errors\n",
      "\n",
      "\n",
      "Analyzing /home/mong/Desktop/map/map/videos/VID_20150123_173700_Q.mp4.txt\n",
      "For Frame Threshold of  2: Red has 47 errors | Green has 45 errors | Blue has 135 errors\n",
      "For Frame Threshold of  4: Red has 33 errors | Green has 37 errors | Blue has 94 errors\n",
      "For Frame Threshold of  6: Red has 19 errors | Green has 25 errors | Blue has 72 errors\n",
      "For Frame Threshold of  8: Red has 10 errors | Green has  8 errors | Blue has 39 errors\n",
      "For Frame Threshold of 10: Red has  2 errors | Green has  2 errors | Blue has 17 errors\n",
      "For Frame Threshold of 12: Red has  0 errors | Green has  0 errors | Blue has 12 errors\n",
      "For Frame Threshold of 14: Red has  0 errors | Green has  0 errors | Blue has  8 errors\n",
      "For Frame Threshold of 16: Red has  0 errors | Green has  0 errors | Blue has  4 errors\n",
      "For Frame Threshold of 18: Red has  0 errors | Green has  0 errors | Blue has  4 errors\n",
      "For Frame Threshold of 20: Red has  0 errors | Green has  0 errors | Blue has  2 errors\n",
      "For Frame Threshold of 22: Red has  0 errors | Green has  0 errors | Blue has  2 errors\n",
      "For Frame Threshold of 24: Red has  0 errors | Green has  0 errors | Blue has  2 errors\n",
      "For Frame Threshold of 26: Red has  0 errors | Green has  0 errors | Blue has  2 errors\n",
      "For Frame Threshold of 28: Red has  0 errors | Green has  0 errors | Blue has  2 errors\n",
      "For Frame Threshold of 30: Red has  0 errors | Green has  0 errors | Blue has  2 errors\n",
      "For Frame Threshold of 32: Red has  0 errors | Green has  0 errors | Blue has  2 errors\n",
      "For Frame Threshold of 34: Red has  0 errors | Green has  0 errors | Blue has  1 errors\n",
      "For Frame Threshold of 36: Red has  0 errors | Green has  0 errors | Blue has  1 errors\n",
      "For Frame Threshold of 38: Red has  0 errors | Green has  0 errors | Blue has  1 errors\n",
      "For Frame Threshold of 40: Red has  0 errors | Green has  0 errors | Blue has  1 errors\n",
      "For Frame Threshold of 42: Red has  0 errors | Green has  0 errors | Blue has  1 errors\n",
      "For Frame Threshold of 44: Red has  0 errors | Green has  0 errors | Blue has  1 errors\n",
      "For Frame Threshold of 46: Red has  0 errors | Green has  0 errors | Blue has  1 errors\n",
      "For Frame Threshold of 48: Red has  0 errors | Green has  0 errors | Blue has  1 errors\n",
      "For Frame Threshold of 50: Red has  0 errors | Green has  0 errors | Blue has  3 errors\n",
      "For Frame Threshold of 52: Red has  2 errors | Green has  3 errors | Blue has  6 errors\n",
      "For Frame Threshold of 54: Red has  6 errors | Green has  6 errors | Blue has  6 errors\n",
      "For Frame Threshold of 56: Red has  8 errors | Green has 10 errors | Blue has  7 errors\n",
      "For Frame Threshold of 58: Red has  9 errors | Green has 10 errors | Blue has  8 errors\n",
      "\n",
      "\n",
      "Analyzing /home/mong/Desktop/map/map/videos/VID_20150123_173757_Q.mp4.txt\n",
      "For Frame Threshold of  2: Red has 40 errors | Green has 50 errors | Blue has 105 errors\n",
      "For Frame Threshold of  4: Red has 34 errors | Green has 38 errors | Blue has 78 errors\n",
      "For Frame Threshold of  6: Red has 14 errors | Green has 20 errors | Blue has 73 errors\n",
      "For Frame Threshold of  8: Red has  3 errors | Green has  7 errors | Blue has 69 errors\n",
      "For Frame Threshold of 10: Red has  0 errors | Green has  3 errors | Blue has 62 errors\n",
      "For Frame Threshold of 12: Red has  0 errors | Green has  1 errors | Blue has 47 errors\n",
      "For Frame Threshold of 14: Red has  0 errors | Green has  1 errors | Blue has 37 errors\n",
      "For Frame Threshold of 16: Red has  0 errors | Green has  0 errors | Blue has 29 errors\n",
      "For Frame Threshold of 18: Red has  0 errors | Green has  0 errors | Blue has 15 errors\n",
      "For Frame Threshold of 20: Red has  0 errors | Green has  0 errors | Blue has 11 errors\n",
      "For Frame Threshold of 22: Red has  0 errors | Green has  0 errors | Blue has  3 errors\n",
      "For Frame Threshold of 24: Red has  0 errors | Green has  0 errors | Blue has  3 errors\n",
      "For Frame Threshold of 26: Red has  0 errors | Green has  0 errors | Blue has  3 errors\n",
      "For Frame Threshold of 28: Red has  0 errors | Green has  0 errors | Blue has  3 errors\n",
      "For Frame Threshold of 30: Red has  0 errors | Green has  0 errors | Blue has  3 errors\n",
      "For Frame Threshold of 32: Red has  0 errors | Green has  0 errors | Blue has  3 errors\n",
      "For Frame Threshold of 34: Red has  0 errors | Green has  0 errors | Blue has  3 errors\n",
      "For Frame Threshold of 36: Red has  0 errors | Green has  0 errors | Blue has  3 errors\n",
      "For Frame Threshold of 38: Red has  0 errors | Green has  0 errors | Blue has  2 errors\n",
      "For Frame Threshold of 40: Red has  0 errors | Green has  0 errors | Blue has  2 errors\n",
      "For Frame Threshold of 42: Red has  0 errors | Green has  0 errors | Blue has  2 errors\n",
      "For Frame Threshold of 44: Red has  0 errors | Green has  0 errors | Blue has  2 errors\n",
      "For Frame Threshold of 46: Red has  0 errors | Green has  0 errors | Blue has  2 errors\n",
      "For Frame Threshold of 48: Red has  0 errors | Green has  0 errors | Blue has  2 errors\n",
      "For Frame Threshold of 50: Red has  0 errors | Green has  1 errors | Blue has  2 errors\n",
      "For Frame Threshold of 52: Red has  1 errors | Green has  2 errors | Blue has  2 errors\n",
      "For Frame Threshold of 54: Red has  4 errors | Green has  5 errors | Blue has  5 errors\n",
      "For Frame Threshold of 56: Red has  7 errors | Green has  8 errors | Blue has  8 errors\n",
      "For Frame Threshold of 58: Red has  9 errors | Green has  9 errors | Blue has  8 errors\n",
      "\n",
      "\n",
      "Analyzing /home/mong/Desktop/map/map/videos/VID_20150123_173028_F.mp4.txt\n",
      "For Frame Threshold of  2: Red has 63 errors | Green has 53 errors | Blue has 66 errors\n",
      "For Frame Threshold of  4: Red has 48 errors | Green has 43 errors | Blue has 58 errors\n",
      "For Frame Threshold of  6: Red has 43 errors | Green has 43 errors | Blue has 49 errors\n",
      "For Frame Threshold of  8: Red has 42 errors | Green has 43 errors | Blue has 44 errors\n",
      "For Frame Threshold of 10: Red has 42 errors | Green has 43 errors | Blue has 44 errors\n",
      "For Frame Threshold of 12: Red has 42 errors | Green has 43 errors | Blue has 44 errors\n",
      "For Frame Threshold of 14: Red has 42 errors | Green has 43 errors | Blue has 44 errors\n",
      "For Frame Threshold of 16: Red has 41 errors | Green has 43 errors | Blue has 42 errors\n",
      "For Frame Threshold of 18: Red has 41 errors | Green has 43 errors | Blue has 42 errors\n",
      "For Frame Threshold of 20: Red has 41 errors | Green has 42 errors | Blue has 41 errors\n",
      "For Frame Threshold of 22: Red has 41 errors | Green has 42 errors | Blue has 41 errors\n",
      "For Frame Threshold of 24: Red has 41 errors | Green has 42 errors | Blue has 40 errors\n",
      "For Frame Threshold of 26: Red has 41 errors | Green has 42 errors | Blue has 40 errors\n",
      "For Frame Threshold of 28: Red has 41 errors | Green has 42 errors | Blue has 39 errors\n",
      "For Frame Threshold of 30: Red has 39 errors | Green has 42 errors | Blue has 37 errors\n",
      "For Frame Threshold of 32: Red has 38 errors | Green has 40 errors | Blue has 35 errors\n",
      "For Frame Threshold of 34: Red has 31 errors | Green has 35 errors | Blue has 31 errors\n",
      "For Frame Threshold of 36: Red has 19 errors | Green has 20 errors | Blue has 26 errors\n",
      "For Frame Threshold of 38: Red has  7 errors | Green has 10 errors | Blue has 19 errors\n",
      "For Frame Threshold of 40: Red has  5 errors | Green has  7 errors | Blue has 12 errors\n",
      "For Frame Threshold of 42: Red has  5 errors | Green has  6 errors | Blue has 11 errors\n",
      "For Frame Threshold of 44: Red has  5 errors | Green has  6 errors | Blue has 10 errors\n",
      "For Frame Threshold of 46: Red has  5 errors | Green has  6 errors | Blue has 10 errors\n",
      "For Frame Threshold of 48: Red has  5 errors | Green has  6 errors | Blue has  9 errors\n",
      "For Frame Threshold of 50: Red has  5 errors | Green has  6 errors | Blue has  9 errors\n",
      "For Frame Threshold of 52: Red has  5 errors | Green has  6 errors | Blue has  9 errors\n",
      "For Frame Threshold of 54: Red has  5 errors | Green has  6 errors | Blue has  9 errors\n",
      "For Frame Threshold of 56: Red has  5 errors | Green has  6 errors | Blue has  9 errors\n",
      "For Frame Threshold of 58: Red has  4 errors | Green has  6 errors | Blue has  9 errors\n",
      "\n",
      "\n",
      "Analyzing /home/mong/Desktop/map/map/videos/VID_20150123_172857_Q.mp4.txt\n",
      "For Frame Threshold of  2: Red has 41 errors | Green has 45 errors | Blue has 130 errors\n",
      "For Frame Threshold of  4: Red has 21 errors | Green has 30 errors | Blue has 74 errors\n",
      "For Frame Threshold of  6: Red has 15 errors | Green has 26 errors | Blue has 52 errors\n",
      "For Frame Threshold of  8: Red has  5 errors | Green has 18 errors | Blue has 29 errors\n",
      "For Frame Threshold of 10: Red has  5 errors | Green has 10 errors | Blue has 21 errors\n",
      "For Frame Threshold of 12: Red has  4 errors | Green has 10 errors | Blue has 21 errors\n",
      "For Frame Threshold of 14: Red has  4 errors | Green has  6 errors | Blue has 13 errors\n",
      "For Frame Threshold of 16: Red has  4 errors | Green has  6 errors | Blue has  9 errors\n",
      "For Frame Threshold of 18: Red has  4 errors | Green has  6 errors | Blue has  6 errors\n",
      "For Frame Threshold of 20: Red has  2 errors | Green has  6 errors | Blue has  5 errors\n",
      "For Frame Threshold of 22: Red has  2 errors | Green has  4 errors | Blue has  5 errors\n",
      "For Frame Threshold of 24: Red has  2 errors | Green has  4 errors | Blue has  5 errors\n",
      "For Frame Threshold of 26: Red has  2 errors | Green has  4 errors | Blue has  5 errors\n",
      "For Frame Threshold of 28: Red has  2 errors | Green has  4 errors | Blue has  5 errors\n",
      "For Frame Threshold of 30: Red has  2 errors | Green has  4 errors | Blue has  5 errors\n",
      "For Frame Threshold of 32: Red has  2 errors | Green has  4 errors | Blue has  4 errors\n",
      "For Frame Threshold of 34: Red has  2 errors | Green has  4 errors | Blue has  4 errors\n",
      "For Frame Threshold of 36: Red has  2 errors | Green has  4 errors | Blue has  4 errors\n",
      "For Frame Threshold of 38: Red has  1 errors | Green has  3 errors | Blue has  4 errors\n",
      "For Frame Threshold of 40: Red has  1 errors | Green has  3 errors | Blue has  4 errors\n",
      "For Frame Threshold of 42: Red has  1 errors | Green has  3 errors | Blue has  4 errors\n",
      "For Frame Threshold of 44: Red has  2 errors | Green has  3 errors | Blue has  5 errors\n",
      "For Frame Threshold of 46: Red has  3 errors | Green has  5 errors | Blue has  5 errors\n",
      "For Frame Threshold of 48: Red has  4 errors | Green has  6 errors | Blue has  5 errors\n",
      "For Frame Threshold of 50: Red has  6 errors | Green has  6 errors | Blue has  7 errors\n",
      "For Frame Threshold of 52: Red has  7 errors | Green has  7 errors | Blue has  7 errors\n",
      "For Frame Threshold of 54: Red has  8 errors | Green has  7 errors | Blue has  8 errors\n",
      "For Frame Threshold of 56: Red has  7 errors | Green has  8 errors | Blue has  8 errors\n",
      "For Frame Threshold of 58: Red has  6 errors | Green has  8 errors | Blue has  8 errors\n",
      "\n",
      "\n"
     ]
    }
   ],
   "source": [
    "for video in videoList:\n",
    "    analyzeVideoRGB(video)\n",
    "    print(\"\\n\")"
   ]
  },
  {
   "cell_type": "code",
   "execution_count": null,
   "metadata": {
    "collapsed": true
   },
   "outputs": [],
   "source": [
    "#This is Debug"
   ]
  },
  {
   "cell_type": "code",
   "execution_count": 38,
   "metadata": {
    "collapsed": false
   },
   "outputs": [
    {
     "data": {
      "image/png": "[encoded data removed]",
      "text/plain": [
       "<matplotlib.figure.Figure at 0x7f9c6854dd30>"
      ]
     },
     "metadata": {},
     "output_type": "display_data"
    }
   ],
   "source": [
    "rL, gL, bL = readFromFile(\"/home/mong/Desktop/map/map/videos/VID_20150123_172926_F.mp4.txt\")\n",
    "def constructTimeList(numOfElement, deltaTime):\n",
    "    l = list()\n",
    "    l.append(0)\n",
    "    for i in range(1, numOfElement):\n",
    "        l.append(l[i-1]+deltaTime)\n",
    "    return l\n",
    "tL = constructTimeList(len(rL), 1/fps)\n",
    "pL = detectPeak(rL, 10)\n",
    "plt.plot(tL, rL)\n",
    "plt.xlabel(\"time\")\n",
    "plt.ylabel(\"r\")\n",
    "plt.title(\"time\"+' vs '+\"r\")\n",
    "plt.ylim(199, 204)\n",
    "plt.plot([p/30.32 for p in pL],[rL[p] for p in pL],'ro')\n",
    "plt.show()\n",
    "# plot(tL, rL, \"time\", \"R color\", yBegin=199, yEnd=204)\n"
   ]
  },
  {
   "cell_type": "code",
   "execution_count": 35,
   "metadata": {
    "collapsed": false
   },
   "outputs": [
    {
     "data": {
      "image/png": "[encoded data removed]",
      "text/plain": [
       "<matplotlib.figure.Figure at 0x7f9c689ee240>"
      ]
     },
     "metadata": {},
     "output_type": "display_data"
    }
   ],
   "source": [
    "rL, gL, bL = readFromFile(\"/home/mong/Desktop/map/map/videos/VID_20150123_172926_F.mp4.txt\")\n",
    "def constructTimeList(numOfElement, deltaTime):\n",
    "    l = list()\n",
    "    l.append(0)\n",
    "    for i in range(1, numOfElement):\n",
    "        l.append(l[i-1]+deltaTime)\n",
    "    return l\n",
    "tL = constructTimeList(len(rL), 1/fps)\n",
    "def plot(inVarList, deVarList, inVarName, deVarName, yBegin=0, yEnd=1.5):\n",
    "    plt.plot(inVarList, deVarList)\n",
    "    plt.xlabel(inVarName)\n",
    "    plt.ylabel(deVarName)\n",
    "    plt.title(inVarName+' vs '+deVarName)\n",
    "    plt.ylim(yBegin, yEnd)\n",
    "    plt.plot([42/30.32],[203],'ro')\n",
    "    plt.show()\n",
    "plot(tL, rL, \"time\", \"R color\", yBegin=199, yEnd=204)\n"
   ]
  },
  {
   "cell_type": "code",
   "execution_count": 32,
   "metadata": {
    "collapsed": false
   },
   "outputs": [
    {
     "name": "stdout",
     "output_type": "stream",
     "text": [
      "40 [42, 64, 85, 107, 129, 152, 172, 192, 212, 252, 271, 291, 310, 332, 354, 375, 395, 417, 439, 461, 481, 500, 522, 543, 563, 582, 603, 625, 646, 666, 684, 703, 724, 745, 766, 787, 809, 829, 849, 869]\n"
     ]
    }
   ],
   "source": [
    "pL = detectPeak(rL, 10)\n",
    "print(len(pL), pL)#42"
   ]
  },
  {
   "cell_type": "code",
   "execution_count": 30,
   "metadata": {
    "collapsed": false
   },
   "outputs": [
    {
     "data": {
      "text/plain": [
       "202.04945794753087"
      ]
     },
     "execution_count": 30,
     "metadata": {},
     "output_type": "execute_result"
    }
   ],
   "source": [
    "rL[42]"
   ]
  },
  {
   "cell_type": "code",
   "execution_count": null,
   "metadata": {
    "collapsed": true
   },
   "outputs": [],
   "source": []
  }
 ],
 "metadata": {
  "kernelspec": {
   "display_name": "Python 3",
   "language": "python",
   "name": "python3"
  },
  "language_info": {
   "codemirror_mode": {
    "name": "ipython",
    "version": 3
   },
   "file_extension": ".py",
   "mimetype": "text/x-python",
   "name": "python",
   "nbconvert_exporter": "python",
   "pygments_lexer": "ipython3",
   "version": "3.5.1"
  }
 },
 "nbformat": 4,
 "nbformat_minor": 0
}
