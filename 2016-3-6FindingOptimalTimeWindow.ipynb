{
 "cells": [
  {
   "cell_type": "code",
   "execution_count": 1,
   "metadata": {
    "collapsed": false
   },
   "outputs": [],
   "source": [
    "import numpy\n",
    "import matplotlib.pyplot as plt\n",
    "%matplotlib inline\n",
    "fps = 30.323427803"
   ]
  },
  {
   "cell_type": "markdown",
   "metadata": {},
   "source": [
    "This function obtains a list of color component from txt file.\n"
   ]
  },
  {
   "cell_type": "code",
   "execution_count": 2,
   "metadata": {
    "collapsed": true
   },
   "outputs": [],
   "source": [
    "def readFromFile(fileName):\n",
    "    l =numpy.loadtxt(fileName)\n",
    "    return l[0], l[1], l[2]"
   ]
  },
  {
   "cell_type": "markdown",
   "metadata": {},
   "source": [
    "This function runs through the color list, returns the peak that are local maxima for an interval of 2 times the frameThreshold. It returns the list of peaks. For exmple, if frameThreshold is 10, it returns only the maxima that are greater than the values of 10 frames before and those of 10 frames after."
   ]
  },
  {
   "cell_type": "code",
   "execution_count": 3,
   "metadata": {
    "collapsed": true
   },
   "outputs": [],
   "source": [
    "def detectPeak(colorL, frameThreshold):\n",
    "    peakL = list()\n",
    "    colorlistLen = len(colorL)\n",
    "    for i in range(1, colorlistLen-1):\n",
    "        biggerThanPrevious = colorL[i] > colorL[i-1]\n",
    "        biggerThanAfter = colorL[i] > colorL[i+1]\n",
    "        #if it is a local maximum, then check if it is a RR peak by comparing its maxima interval to frameThreshold\n",
    "        if biggerThanPrevious and biggerThanAfter:\n",
    "            for k in range(2, frameThreshold+1):\n",
    "                if i-k >= 0:\n",
    "                    if not colorL[i] > colorL[i-k]:\n",
    "                        #this is not a rr peak\n",
    "                        break\n",
    "                if i+k < colorlistLen:\n",
    "                    if not colorL[i] > colorL[i+k]:\n",
    "                        #this is not a rr peak\n",
    "                        break\n",
    "            else:\n",
    "                #this IS a rr peak, store the array index\n",
    "                peakL.append(i)\n",
    "    return peakL"
   ]
  },
  {
   "cell_type": "markdown",
   "metadata": {},
   "source": [
    "This function create the corresponding time coordinate from the list of rr intervals\n"
   ]
  },
  {
   "cell_type": "markdown",
   "metadata": {},
   "source": [
    "This function constructs rr Interval list from the peak list generated from detectPeak function"
   ]
  },
  {
   "cell_type": "code",
   "execution_count": 4,
   "metadata": {
    "collapsed": true
   },
   "outputs": [],
   "source": [
    "def constructRRIntervalList(peakL):\n",
    "    return [ (peakL[i]-peakL[i-1])/fps for i in range(1, len(peakL))]"
   ]
  },
  {
   "cell_type": "code",
   "execution_count": 5,
   "metadata": {
    "collapsed": true
   },
   "outputs": [],
   "source": [
    "def constructTimeListFromRRList(rrL):\n",
    "    tL = list()\n",
    "    tL.append(rrL[0])\n",
    "    for i in range(1, len(rrL)):\n",
    "        tL.append(tL[i-1]+rrL[i])\n",
    "    return tL"
   ]
  },
  {
   "cell_type": "markdown",
   "metadata": {},
   "source": [
    "This function graph the data."
   ]
  },
  {
   "cell_type": "code",
   "execution_count": 6,
   "metadata": {
    "collapsed": true
   },
   "outputs": [],
   "source": [
    "def plot(inVarList, deVarList, inVarName, deVarName, yBegin=0, yEnd=1.5):\n",
    "    plt.plot(inVarList, deVarList)\n",
    "    plt.xlabel(inVarName)\n",
    "    plt.ylabel(deVarName)\n",
    "    plt.title(inVarName+' vs '+deVarName)\n",
    "    plt.ylim(yBegin, yEnd)\n",
    "    plt.show()"
   ]
  },
  {
   "cell_type": "markdown",
   "metadata": {},
   "source": [
    "This function defines the criteria for being a true RR interval."
   ]
  },
  {
   "cell_type": "code",
   "execution_count": 7,
   "metadata": {
    "collapsed": true
   },
   "outputs": [],
   "source": [
    "def isTrueRRInterval(rrInterval):\n",
    "    if 0.8 <= rrInterval and rrInterval <= 1.2:\n",
    "        return True\n",
    "    else:\n",
    "        return False"
   ]
  },
  {
   "cell_type": "markdown",
   "metadata": {},
   "source": [
    "This function detect the amount of errors in a list of RR interval, as judged by function isTrueRRInterval"
   ]
  },
  {
   "cell_type": "code",
   "execution_count": 8,
   "metadata": {
    "collapsed": false
   },
   "outputs": [],
   "source": [
    "def getAmountOfError(rrL):\n",
    "    errorNum = 0\n",
    "    for rrInterval in rrL:\n",
    "        if (not isTrueRRInterval(rrInterval)):\n",
    "            errorNum += 1\n",
    "    return errorNum"
   ]
  },
  {
   "cell_type": "markdown",
   "metadata": {},
   "source": [
    "This function analyze the rgb txt file of a PPG video and return important information."
   ]
  },
  {
   "cell_type": "code",
   "execution_count": 51,
   "metadata": {
    "collapsed": true
   },
   "outputs": [],
   "source": [
    "def analyzeVideoRGB(fileName):\n",
    "    print(\"Analyzing \"+fileName)\n",
    "    rL, gL, bL = readFromFile(fileName)\n",
    "    for frameThreshold in range(1, 16):\n",
    "        rRRL = constructRRIntervalList(detectPeak(rL, frameThreshold))\n",
    "        gRRL = constructRRIntervalList(detectPeak(gL, frameThreshold))\n",
    "        bRRL = constructRRIntervalList(detectPeak(bL, frameThreshold))\n",
    "        rError = getAmountOfError(rRRL)\n",
    "        gError = getAmountOfError(gRRL)\n",
    "        bError = getAmountOfError(bRRL)\n",
    "#         print(\"For Frame Threshold of \",(frameThreshold*2)\n",
    "#               ,\": Red has \",rError,\" errors\"\n",
    "#               ,\" | Green has \",gError,\" errors\"\n",
    "#               ,\" | Blue has \",bError,\" errors\")\n",
    "        print(\"For Frame Threshold of {:2d}: Red has {:2d} errors | Green has {:2d} errors | Blue has {:2d} errors\"\n",
    "              .format(frameThreshold*2, rError, gError, bError))"
   ]
  },
  {
   "cell_type": "code",
   "execution_count": 52,
   "metadata": {
    "collapsed": true
   },
   "outputs": [],
   "source": [
    "videoList = [\"/home/mong/Desktop/map/map/videos/VID_20150123_172926_F.mp4.txt\",\n",
    "\"/home/mong/Desktop/map/map/videos/VID_20150123_173259_Q.mp4.txt\",\n",
    "\"/home/mong/Desktop/map/map/videos/VID_20150123_173329_F.mp4.txt\",\n",
    "\"/home/mong/Desktop/map/map/videos/VID_20150123_173358_Q.mp4.txt\",\n",
    "\"/home/mong/Desktop/map/map/videos/VID_20150123_173427_F.mp4.txt\",\n",
    "\"/home/mong/Desktop/map/map/videos/VID_20150123_173457_Q.mp4.txt\",\n",
    "\"/home/mong/Desktop/map/map/videos/VID_20150123_173556_Q.mp4.txt\",\n",
    "\"/home/mong/Desktop/map/map/videos/VID_20150123_173629_F.mp4.txt\",\n",
    "\"/home/mong/Desktop/map/map/videos/VID_20150123_173700_Q.mp4.txt\",]"
   ]
  },
  {
   "cell_type": "code",
   "execution_count": 53,
   "metadata": {
    "collapsed": false
   },
   "outputs": [
    {
     "name": "stdout",
     "output_type": "stream",
     "text": [
      "Analyzing /home/mong/Desktop/map/map/videos/VID_20150123_172926_F.mp4.txt\n",
      "For Frame Threshold of  2: Red has 70 errors | Green has 46 errors | Blue has 67 errors\n",
      "For Frame Threshold of  4: Red has 55 errors | Green has 45 errors | Blue has 53 errors\n",
      "For Frame Threshold of  6: Red has 44 errors | Green has 42 errors | Blue has 49 errors\n",
      "For Frame Threshold of  8: Red has 43 errors | Green has 42 errors | Blue has 44 errors\n",
      "For Frame Threshold of 10: Red has 41 errors | Green has 41 errors | Blue has 42 errors\n",
      "For Frame Threshold of 12: Red has 41 errors | Green has 41 errors | Blue has 42 errors\n",
      "For Frame Threshold of 14: Red has 39 errors | Green has 41 errors | Blue has 42 errors\n",
      "For Frame Threshold of 16: Red has 39 errors | Green has 41 errors | Blue has 42 errors\n",
      "For Frame Threshold of 18: Red has 39 errors | Green has 41 errors | Blue has 42 errors\n",
      "For Frame Threshold of 20: Red has 39 errors | Green has 41 errors | Blue has 40 errors\n",
      "For Frame Threshold of 22: Red has 39 errors | Green has 41 errors | Blue has 39 errors\n",
      "For Frame Threshold of 24: Red has 39 errors | Green has 41 errors | Blue has 39 errors\n",
      "For Frame Threshold of 26: Red has 38 errors | Green has 41 errors | Blue has 39 errors\n",
      "For Frame Threshold of 28: Red has 38 errors | Green has 39 errors | Blue has 39 errors\n",
      "For Frame Threshold of 30: Red has 37 errors | Green has 39 errors | Blue has 37 errors\n",
      "\n",
      "\n",
      "Analyzing /home/mong/Desktop/map/map/videos/VID_20150123_173259_Q.mp4.txt\n",
      "For Frame Threshold of  2: Red has 54 errors | Green has 53 errors | Blue has 165 errors\n",
      "For Frame Threshold of  4: Red has 46 errors | Green has 44 errors | Blue has 89 errors\n",
      "For Frame Threshold of  6: Red has 38 errors | Green has 34 errors | Blue has 68 errors\n",
      "For Frame Threshold of  8: Red has 21 errors | Green has 21 errors | Blue has 44 errors\n",
      "For Frame Threshold of 10: Red has  8 errors | Green has  6 errors | Blue has 31 errors\n",
      "For Frame Threshold of 12: Red has  2 errors | Green has  2 errors | Blue has 26 errors\n",
      "For Frame Threshold of 14: Red has  2 errors | Green has  2 errors | Blue has 22 errors\n",
      "For Frame Threshold of 16: Red has  2 errors | Green has  2 errors | Blue has 18 errors\n",
      "For Frame Threshold of 18: Red has  2 errors | Green has  2 errors | Blue has 16 errors\n",
      "For Frame Threshold of 20: Red has  2 errors | Green has  2 errors | Blue has 16 errors\n",
      "For Frame Threshold of 22: Red has  2 errors | Green has  2 errors | Blue has 13 errors\n",
      "For Frame Threshold of 24: Red has  2 errors | Green has  2 errors | Blue has  9 errors\n",
      "For Frame Threshold of 26: Red has  2 errors | Green has  2 errors | Blue has  7 errors\n",
      "For Frame Threshold of 28: Red has  2 errors | Green has  2 errors | Blue has  6 errors\n",
      "For Frame Threshold of 30: Red has  2 errors | Green has  2 errors | Blue has  4 errors\n",
      "\n",
      "\n",
      "Analyzing /home/mong/Desktop/map/map/videos/VID_20150123_173329_F.mp4.txt\n",
      "For Frame Threshold of  2: Red has 105 errors | Green has 28 errors | Blue has 220 errors\n",
      "For Frame Threshold of  4: Red has 46 errors | Green has 18 errors | Blue has 130 errors\n",
      "For Frame Threshold of  6: Red has 34 errors | Green has 11 errors | Blue has 82 errors\n",
      "For Frame Threshold of  8: Red has 21 errors | Green has 10 errors | Blue has 51 errors\n",
      "For Frame Threshold of 10: Red has 19 errors | Green has  9 errors | Blue has 39 errors\n",
      "For Frame Threshold of 12: Red has 14 errors | Green has  6 errors | Blue has 27 errors\n",
      "For Frame Threshold of 14: Red has 15 errors | Green has  6 errors | Blue has 20 errors\n",
      "For Frame Threshold of 16: Red has 14 errors | Green has  3 errors | Blue has 16 errors\n",
      "For Frame Threshold of 18: Red has 12 errors | Green has  3 errors | Blue has 11 errors\n",
      "For Frame Threshold of 20: Red has 10 errors | Green has  3 errors | Blue has 10 errors\n",
      "For Frame Threshold of 22: Red has 10 errors | Green has  3 errors | Blue has  9 errors\n",
      "For Frame Threshold of 24: Red has 10 errors | Green has  2 errors | Blue has  8 errors\n",
      "For Frame Threshold of 26: Red has  9 errors | Green has  2 errors | Blue has  5 errors\n",
      "For Frame Threshold of 28: Red has  8 errors | Green has  2 errors | Blue has  2 errors\n",
      "For Frame Threshold of 30: Red has  8 errors | Green has  1 errors | Blue has  1 errors\n",
      "\n",
      "\n",
      "Analyzing /home/mong/Desktop/map/map/videos/VID_20150123_173358_Q.mp4.txt\n",
      "For Frame Threshold of  2: Red has 56 errors | Green has 58 errors | Blue has 123 errors\n",
      "For Frame Threshold of  4: Red has 47 errors | Green has 48 errors | Blue has 92 errors\n",
      "For Frame Threshold of  6: Red has 35 errors | Green has 36 errors | Blue has 69 errors\n",
      "For Frame Threshold of  8: Red has 15 errors | Green has 14 errors | Blue has 56 errors\n",
      "For Frame Threshold of 10: Red has  8 errors | Green has  5 errors | Blue has 31 errors\n",
      "For Frame Threshold of 12: Red has  2 errors | Green has  1 errors | Blue has 15 errors\n",
      "For Frame Threshold of 14: Red has  0 errors | Green has  1 errors | Blue has  7 errors\n",
      "For Frame Threshold of 16: Red has  1 errors | Green has  1 errors | Blue has  5 errors\n",
      "For Frame Threshold of 18: Red has  1 errors | Green has  1 errors | Blue has  2 errors\n",
      "For Frame Threshold of 20: Red has  1 errors | Green has  2 errors | Blue has  2 errors\n",
      "For Frame Threshold of 22: Red has  1 errors | Green has  2 errors | Blue has  2 errors\n",
      "For Frame Threshold of 24: Red has  1 errors | Green has  2 errors | Blue has  2 errors\n",
      "For Frame Threshold of 26: Red has  1 errors | Green has  2 errors | Blue has  1 errors\n",
      "For Frame Threshold of 28: Red has  1 errors | Green has  2 errors | Blue has  1 errors\n",
      "For Frame Threshold of 30: Red has  1 errors | Green has  2 errors | Blue has  1 errors\n",
      "\n",
      "\n",
      "Analyzing /home/mong/Desktop/map/map/videos/VID_20150123_173427_F.mp4.txt\n",
      "For Frame Threshold of  2: Red has 41 errors | Green has 45 errors | Blue has 130 errors\n",
      "For Frame Threshold of  4: Red has 21 errors | Green has 30 errors | Blue has 73 errors\n",
      "For Frame Threshold of  6: Red has 15 errors | Green has 25 errors | Blue has 52 errors\n",
      "For Frame Threshold of  8: Red has  5 errors | Green has 17 errors | Blue has 27 errors\n",
      "For Frame Threshold of 10: Red has  5 errors | Green has  9 errors | Blue has 19 errors\n",
      "For Frame Threshold of 12: Red has  4 errors | Green has  9 errors | Blue has 19 errors\n",
      "For Frame Threshold of 14: Red has  4 errors | Green has  5 errors | Blue has 11 errors\n",
      "For Frame Threshold of 16: Red has  4 errors | Green has  5 errors | Blue has  7 errors\n",
      "For Frame Threshold of 18: Red has  4 errors | Green has  5 errors | Blue has  4 errors\n",
      "For Frame Threshold of 20: Red has  2 errors | Green has  5 errors | Blue has  3 errors\n",
      "For Frame Threshold of 22: Red has  2 errors | Green has  3 errors | Blue has  3 errors\n",
      "For Frame Threshold of 24: Red has  2 errors | Green has  3 errors | Blue has  3 errors\n",
      "For Frame Threshold of 26: Red has  2 errors | Green has  3 errors | Blue has  3 errors\n",
      "For Frame Threshold of 28: Red has  2 errors | Green has  3 errors | Blue has  3 errors\n",
      "For Frame Threshold of 30: Red has  2 errors | Green has  3 errors | Blue has  3 errors\n",
      "\n",
      "\n",
      "Analyzing /home/mong/Desktop/map/map/videos/VID_20150123_173457_Q.mp4.txt\n",
      "For Frame Threshold of  2: Red has 55 errors | Green has 53 errors | Blue has 158 errors\n",
      "For Frame Threshold of  4: Red has 40 errors | Green has 40 errors | Blue has 108 errors\n",
      "For Frame Threshold of  6: Red has 24 errors | Green has 20 errors | Blue has 84 errors\n",
      "For Frame Threshold of  8: Red has 14 errors | Green has 10 errors | Blue has 65 errors\n",
      "For Frame Threshold of 10: Red has  0 errors | Green has  0 errors | Blue has 42 errors\n",
      "For Frame Threshold of 12: Red has  0 errors | Green has  0 errors | Blue has 23 errors\n",
      "For Frame Threshold of 14: Red has  0 errors | Green has  0 errors | Blue has 12 errors\n",
      "For Frame Threshold of 16: Red has  0 errors | Green has  0 errors | Blue has  8 errors\n",
      "For Frame Threshold of 18: Red has  1 errors | Green has  0 errors | Blue has  4 errors\n",
      "For Frame Threshold of 20: Red has  1 errors | Green has  0 errors | Blue has  3 errors\n",
      "For Frame Threshold of 22: Red has  1 errors | Green has  0 errors | Blue has  3 errors\n",
      "For Frame Threshold of 24: Red has  1 errors | Green has  0 errors | Blue has  3 errors\n",
      "For Frame Threshold of 26: Red has  1 errors | Green has  0 errors | Blue has  2 errors\n",
      "For Frame Threshold of 28: Red has  1 errors | Green has  0 errors | Blue has  1 errors\n",
      "For Frame Threshold of 30: Red has  1 errors | Green has  0 errors | Blue has  1 errors\n",
      "\n",
      "\n",
      "Analyzing /home/mong/Desktop/map/map/videos/VID_20150123_173556_Q.mp4.txt\n",
      "For Frame Threshold of  2: Red has 40 errors | Green has 42 errors | Blue has 131 errors\n",
      "For Frame Threshold of  4: Red has 27 errors | Green has 27 errors | Blue has 100 errors\n",
      "For Frame Threshold of  6: Red has 20 errors | Green has 20 errors | Blue has 79 errors\n",
      "For Frame Threshold of  8: Red has 10 errors | Green has 10 errors | Blue has 56 errors\n",
      "For Frame Threshold of 10: Red has  4 errors | Green has  0 errors | Blue has 35 errors\n",
      "For Frame Threshold of 12: Red has  0 errors | Green has  0 errors | Blue has 14 errors\n",
      "For Frame Threshold of 14: Red has  0 errors | Green has  0 errors | Blue has  4 errors\n",
      "For Frame Threshold of 16: Red has  0 errors | Green has  0 errors | Blue has  4 errors\n",
      "For Frame Threshold of 18: Red has  1 errors | Green has  0 errors | Blue has  2 errors\n",
      "For Frame Threshold of 20: Red has  1 errors | Green has  0 errors | Blue has  2 errors\n",
      "For Frame Threshold of 22: Red has  1 errors | Green has  0 errors | Blue has  2 errors\n",
      "For Frame Threshold of 24: Red has  1 errors | Green has  0 errors | Blue has  2 errors\n",
      "For Frame Threshold of 26: Red has  1 errors | Green has  0 errors | Blue has  2 errors\n",
      "For Frame Threshold of 28: Red has  1 errors | Green has  1 errors | Blue has  2 errors\n",
      "For Frame Threshold of 30: Red has  1 errors | Green has  1 errors | Blue has  2 errors\n",
      "\n",
      "\n",
      "Analyzing /home/mong/Desktop/map/map/videos/VID_20150123_173629_F.mp4.txt\n",
      "For Frame Threshold of  2: Red has 191 errors | Green has 229 errors | Blue has 237 errors\n",
      "For Frame Threshold of  4: Red has 99 errors | Green has 135 errors | Blue has 140 errors\n",
      "For Frame Threshold of  6: Red has 63 errors | Green has 99 errors | Blue has 100 errors\n",
      "For Frame Threshold of  8: Red has 48 errors | Green has 82 errors | Blue has 72 errors\n",
      "For Frame Threshold of 10: Red has 37 errors | Green has 69 errors | Blue has 53 errors\n",
      "For Frame Threshold of 12: Red has 29 errors | Green has 55 errors | Blue has 45 errors\n",
      "For Frame Threshold of 14: Red has 24 errors | Green has 45 errors | Blue has 38 errors\n",
      "For Frame Threshold of 16: Red has 20 errors | Green has 36 errors | Blue has 29 errors\n",
      "For Frame Threshold of 18: Red has 20 errors | Green has 27 errors | Blue has 23 errors\n",
      "For Frame Threshold of 20: Red has 16 errors | Green has 18 errors | Blue has 16 errors\n",
      "For Frame Threshold of 22: Red has 14 errors | Green has 14 errors | Blue has 11 errors\n",
      "For Frame Threshold of 24: Red has 14 errors | Green has 11 errors | Blue has  7 errors\n",
      "For Frame Threshold of 26: Red has 11 errors | Green has  9 errors | Blue has  4 errors\n",
      "For Frame Threshold of 28: Red has 10 errors | Green has  3 errors | Blue has  4 errors\n",
      "For Frame Threshold of 30: Red has 10 errors | Green has  1 errors | Blue has  5 errors\n",
      "\n",
      "\n",
      "Analyzing /home/mong/Desktop/map/map/videos/VID_20150123_173700_Q.mp4.txt\n",
      "For Frame Threshold of  2: Red has 47 errors | Green has 45 errors | Blue has 135 errors\n",
      "For Frame Threshold of  4: Red has 33 errors | Green has 37 errors | Blue has 94 errors\n",
      "For Frame Threshold of  6: Red has 19 errors | Green has 25 errors | Blue has 72 errors\n",
      "For Frame Threshold of  8: Red has 10 errors | Green has  8 errors | Blue has 39 errors\n",
      "For Frame Threshold of 10: Red has  2 errors | Green has  2 errors | Blue has 17 errors\n",
      "For Frame Threshold of 12: Red has  0 errors | Green has  0 errors | Blue has 12 errors\n",
      "For Frame Threshold of 14: Red has  0 errors | Green has  0 errors | Blue has  8 errors\n",
      "For Frame Threshold of 16: Red has  0 errors | Green has  0 errors | Blue has  4 errors\n",
      "For Frame Threshold of 18: Red has  0 errors | Green has  0 errors | Blue has  4 errors\n",
      "For Frame Threshold of 20: Red has  0 errors | Green has  0 errors | Blue has  2 errors\n",
      "For Frame Threshold of 22: Red has  0 errors | Green has  0 errors | Blue has  2 errors\n",
      "For Frame Threshold of 24: Red has  0 errors | Green has  0 errors | Blue has  2 errors\n",
      "For Frame Threshold of 26: Red has  0 errors | Green has  0 errors | Blue has  2 errors\n",
      "For Frame Threshold of 28: Red has  0 errors | Green has  0 errors | Blue has  2 errors\n",
      "For Frame Threshold of 30: Red has  0 errors | Green has  0 errors | Blue has  2 errors\n",
      "\n",
      "\n"
     ]
    }
   ],
   "source": [
    "for video in videoList:\n",
    "    analyzeVideoRGB(video)\n",
    "    print(\"\\n\")"
   ]
  },
  {
   "cell_type": "code",
   "execution_count": null,
   "metadata": {
    "collapsed": true
   },
   "outputs": [],
   "source": []
  },
  {
   "cell_type": "code",
   "execution_count": null,
   "metadata": {
    "collapsed": true
   },
   "outputs": [],
   "source": []
  }
 ],
 "metadata": {
  "kernelspec": {
   "display_name": "Python 3",
   "language": "python",
   "name": "python3"
  },
  "language_info": {
   "codemirror_mode": {
    "name": "ipython",
    "version": 3
   },
   "file_extension": ".py",
   "mimetype": "text/x-python",
   "name": "python",
   "nbconvert_exporter": "python",
   "pygments_lexer": "ipython3",
   "version": "3.5.1"
  }
 },
 "nbformat": 4,
 "nbformat_minor": 0
}
