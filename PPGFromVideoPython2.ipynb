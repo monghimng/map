{
 "cells": [
  {
   "cell_type": "code",
   "execution_count": 5,
   "metadata": {
    "collapsed": true
   },
   "outputs": [],
   "source": [
    "#setup\n",
    "import matplotlib.pyplot as plt\n",
    "import urllib2\n",
    "%matplotlib inline"
   ]
  },
  {
   "cell_type": "code",
   "execution_count": null,
   "metadata": {
    "collapsed": false,
    "scrolled": true
   },
   "outputs": [],
   "source": [
    "import os\n",
    "import subprocess as sp\n",
    "import numpy\n",
    "import select\n",
    "import sys\n",
    "\n",
    "#set up ffmpeg\n",
    "FFMPEG_BIN = \"ffmpeg\"\n",
    "video = '556.mp4'\n",
    "width = 1920\n",
    "height = 1080\n",
    "command = [ FFMPEG_BIN,\n",
    "            '-i', video,\n",
    "            '-f', 'image2pipe',\n",
    "            '-pix_fmt', 'rgb24',\n",
    "            '-vcodec', 'rawvideo', '-']\n",
    "pipe = sp.Popen(command, stdout = sp.PIPE, bufsize=10**8)\n",
    "\n",
    "#return red value from each frame\n",
    "def captureFrame():\n",
    "    # read 1920*1080*3 bytes (= 1 frame)\n",
    "    raw_image = pipe.stdout.read(width*height*3)\n",
    "    # transform the byte read into a numpy array\n",
    "    image =  numpy.fromstring(raw_image, dtype='uint8')\n",
    "    frameTotalByteSize = width*height*3\n",
    "    if len(image) < frameTotalByteSize:\n",
    "        return False\n",
    "    image = image.reshape((width,height,3))\n",
    "    # throw away the data in the pipe's buffer.\n",
    "    pipe.stdout.flush()\n",
    "    totalRed = 0\n",
    "    for col in range(0, width):\n",
    "        for row in range(0, height):\n",
    "            totalRed += image[col][row][0]\n",
    "    return totalRed/1.0/width/height\n",
    "\n",
    "print 'Loading the video'\n",
    "rValueList = list()\n",
    "while True:\n",
    "    r = captureFrame()\n",
    "    if not r:\n",
    "        break\n",
    "    else:\n",
    "        rValueList.append(r)\n",
    "    print r\n",
    "print 'finished'"
   ]
  },
  {
   "cell_type": "code",
   "execution_count": 5,
   "metadata": {
    "collapsed": false
   },
   "outputs": [],
   "source": [
    "file = open('temp', 'w')\n",
    "numpy.savetxt(file, rValueList)"
   ]
  },
  {
   "cell_type": "code",
   "execution_count": 16,
   "metadata": {
    "collapsed": false
   },
   "outputs": [],
   "source": [
    "#debug purpose only\n",
    "file = open('temp', 'r')\n",
    "rValueList = file.read();\n",
    "rValueList = rValueList.split('\\n')\n",
    "rValueList =  rValueList[0:len(rValueList)-1]\n",
    "rValueList = [float(red) for red in rValueList]"
   ]
  },
  {
   "cell_type": "code",
   "execution_count": 17,
   "metadata": {
    "collapsed": false
   },
   "outputs": [],
   "source": [
    "#obtain rr intervals from red value\n",
    "def constructRRListFromRedValueList(redValueList, fps):\n",
    "    timePerFrame = 1.0/fps\n",
    "    rrList = list()\n",
    "    lastMaxIndex = False\n",
    "    for i in range(1, len(redValueList)-1):\n",
    "        previousSlope = redValueList[i] - redValueList[i-1]\n",
    "        afterSlope = redValueList[i+1] - redValueList[i]\n",
    "        # if at that point it is concave down = local max\n",
    "        if previousSlope*afterSlope < 0 and previousSlope > 0:\n",
    "            if lastMaxIndex:\n",
    "                rrInterval = (i-lastMaxIndex)*timePerFrame\n",
    "                rrList.append(rrInterval)\n",
    "            lastMaxIndex = i\n",
    "    return rrList\n",
    "rrList = constructRRListFromRedValueList(rValueList, 30.0)"
   ]
  },
  {
   "cell_type": "code",
   "execution_count": 18,
   "metadata": {
    "collapsed": false
   },
   "outputs": [
    {
     "name": "stdout",
     "output_type": "stream",
     "text": [
      "Total Video Time:  29.3666666667\n",
      "RR Interval List:  [1.0, 0.3333333333333333, 0.5666666666666667, 0.3333333333333333, 0.5333333333333333, 0.9, 0.9333333333333333, 0.36666666666666664, 0.5, 0.9, 0.9333333333333333, 1.0333333333333332, 0.36666666666666664, 0.6, 0.3333333333333333, 0.5333333333333333, 0.36666666666666664, 0.6333333333333333, 1.0, 0.36666666666666664, 0.6, 0.3333333333333333, 0.5666666666666667, 0.36666666666666664, 0.5666666666666667, 0.36666666666666664, 0.6, 1.0, 0.3333333333333333, 0.5666666666666667, 0.3, 0.5666666666666667, 0.9333333333333333, 1.0, 1.0333333333333332, 0.3, 0.5666666666666667, 0.3333333333333333, 0.6333333333333333, 1.0333333333333332, 0.3333333333333333, 0.6666666666666666, 0.3333333333333333, 0.6, 0.36666666666666664, 0.6333333333333333, 0.2, 0.16666666666666666, 0.6, 0.36666666666666664, 0.5666666666666667]\n",
      "\n",
      "\n",
      "Time List:  [1.0, 1.3333333333333333, 1.9, 2.2333333333333334, 2.7666666666666666, 3.6666666666666665, 4.6, 4.966666666666666, 5.466666666666666, 6.366666666666666, 7.3, 8.333333333333332, 8.7, 9.299999999999999, 9.633333333333333, 10.166666666666666, 10.533333333333333, 11.166666666666666, 12.166666666666666, 12.533333333333333, 13.133333333333333, 13.466666666666667, 14.033333333333333, 14.4, 14.966666666666667, 15.333333333333334, 15.933333333333334, 16.933333333333334, 17.266666666666666, 17.833333333333332, 18.133333333333333, 18.7, 19.633333333333333, 20.633333333333333, 21.666666666666664, 21.966666666666665, 22.53333333333333, 22.866666666666664, 23.499999999999996, 24.53333333333333, 24.866666666666664, 25.53333333333333, 25.866666666666664, 26.466666666666665, 26.833333333333332, 27.466666666666665, 27.666666666666664, 27.833333333333332, 28.433333333333334, 28.8, 29.366666666666667]\n"
     ]
    },
    {
     "data": {
      "image/png": "[encoded data removed]",
      "text/plain": [
       "<matplotlib.figure.Figure at 0x7f15fb411110>"
      ]
     },
     "metadata": {},
     "output_type": "display_data"
    }
   ],
   "source": [
    "def constructTimeListFromRRList(rrList, beginT, endT):\n",
    "    #construct time array from the rr intervals\n",
    "    tList = list()\n",
    "    tList.append(float(rrList[0]))\n",
    "    for i in range(1, len(rrList)):\n",
    "        tList.append(tList[len(tList)-1] + float(rrList[i]))\n",
    "    if tList[len(tList)-1]<endT:\n",
    "        endT=tList[len(tList)-1]\n",
    "\n",
    "    #limit the time interval\n",
    "    beginIndex = 0\n",
    "    endIndex = 0\n",
    "    i = 0\n",
    "    while tList[i]<beginT:\n",
    "        i+=1\n",
    "    beginIndex = i\n",
    "    while tList[i]<endT:\n",
    "        i+=1\n",
    "    endIndex = i\n",
    "    tList = tList[beginIndex: endIndex]\n",
    "    rrList = rrList[beginIndex: endIndex]\n",
    "    return tList, rrList\n",
    "\n",
    "def plot(tList, rrList):\n",
    "    #plotting the graph\n",
    "    plt.plot(tList, rrList)\n",
    "    plt.xlabel('Time in Second')\n",
    "    plt.ylabel('RR Interval in Milisecond')\n",
    "    plt.title('Timve vs RR Interval')\n",
    "    plt.show()\n",
    "tList, rrList = constructTimeListFromRRList(rrList, 0, 50)\n",
    "total =0\n",
    "for r in rrList:\n",
    "    total+=r\n",
    "print 'Total Video Time: ', total\n",
    "print 'RR Interval List: ', rrList\n",
    "\n",
    "print '\\n'\n",
    "print 'Time List: ', tList\n",
    "plot(tList, rrList)"
   ]
  },
  {
   "cell_type": "code",
   "execution_count": null,
   "metadata": {
    "collapsed": true
   },
   "outputs": [],
   "source": []
  }
 ],
 "metadata": {
  "kernelspec": {
   "display_name": "Python 3",
   "language": "python",
   "name": "python3"
  },
  "language_info": {
   "codemirror_mode": {
    "name": "ipython",
    "version": 3
   },
   "file_extension": ".py",
   "mimetype": "text/x-python",
   "name": "python",
   "nbconvert_exporter": "python",
   "pygments_lexer": "ipython3",
   "version": "3.5.1"
  }
 },
 "nbformat": 4,
 "nbformat_minor": 0
}
